{
  "cells": [
    {
      "cell_type": "markdown",
      "metadata": {
        "id": "sgd2W0vHwCg2"
      },
      "source": [
        "# Выбор локации для скважины"
      ]
    },
    {
      "cell_type": "markdown",
      "metadata": {
        "id": "tNdxRwzLwCg4"
      },
      "source": [
        "Допустим, вы работаете в добывающей компании «ГлавРосГосНефть». Нужно решить, где бурить новую скважину.\n",
        "\n",
        "Вам предоставлены пробы нефти в трёх регионах: в каждом 10 000 месторождений, где измерили качество нефти и объём её запасов. Постройте модель машинного обучения, которая поможет определить регион, где добыча принесёт наибольшую прибыль. Проанализируйте возможную прибыль и риски техникой *Bootstrap.*\n",
        "\n",
        "Шаги для выбора локации:\n",
        "\n",
        "- В избранном регионе ищут месторождения, для каждого определяют значения признаков;\n",
        "- Строят модель и оценивают объём запасов;\n",
        "- Выбирают месторождения с самым высокими оценками значений. Количество месторождений зависит от бюджета компании и стоимости разработки одной скважины;\n",
        "- Прибыль равна суммарной прибыли отобранных месторождений."
      ]
    },
    {
      "cell_type": "markdown",
      "metadata": {
        "id": "BJrTRFGxwCg8"
      },
      "source": [
        "## Загрузка и подготовка данных"
      ]
    },
    {
      "cell_type": "code",
      "execution_count": null,
      "metadata": {
        "id": "TgoChJBqwChF"
      },
      "outputs": [],
      "source": [
        "import pandas as pd\n",
        "import matplotlib.pyplot as plt\n",
        "import seaborn as sns\n",
        "import numpy as np\n",
        "\n",
        "import scipy as sp\n",
        "import scipy.stats\n",
        "\n",
        "from sklearn.preprocessing import StandardScaler\n",
        "\n",
        "from sklearn.model_selection import train_test_split\n",
        "from sklearn.metrics import mean_squared_error                        \n",
        "            \n",
        "from sklearn.linear_model import LinearRegression"
      ]
    },
    {
      "cell_type": "code",
      "execution_count": null,
      "metadata": {
        "id": "LXVssBIpwChK"
      },
      "outputs": [],
      "source": [
        "geo_data_0 = pd.read_csv('/datasets/geo_data_0.csv')\n",
        "geo_data_1 = pd.read_csv('/datasets/geo_data_1.csv')\n",
        "geo_data_2 = pd.read_csv('/datasets/geo_data_2.csv')"
      ]
    },
    {
      "cell_type": "markdown",
      "metadata": {
        "id": "W-GhG3DVwChL"
      },
      "source": [
        "Поочередно изучим данные каждой табдицы, а также проверим их на наличие пропусков."
      ]
    },
    {
      "cell_type": "code",
      "execution_count": null,
      "metadata": {
        "id": "dbKTTKUUwChM",
        "outputId": "74cf451b-03d1-40cb-c025-66a29d1c1325"
      },
      "outputs": [
        {
          "name": "stdout",
          "output_type": "stream",
          "text": [
            "          id        f0        f1        f2     product\n",
            "0      txEyH  0.705745 -0.497823  1.221170  105.280062\n",
            "1      2acmU  1.334711 -0.340164  4.365080   73.037750\n",
            "2      409Wp  1.022732  0.151990  1.419926   85.265647\n",
            "3      iJLyR -0.032172  0.139033  2.978566  168.620776\n",
            "4      Xdl7t  1.988431  0.155413  4.751769  154.036647\n",
            "...      ...       ...       ...       ...         ...\n",
            "99995  DLsed  0.971957  0.370953  6.075346  110.744026\n",
            "99996  QKivN  1.392429 -0.382606  1.273912  122.346843\n",
            "99997  3rnvd  1.029585  0.018787 -1.348308   64.375443\n",
            "99998  7kl59  0.998163 -0.528582  1.583869   74.040764\n",
            "99999  1CWhH  1.764754 -0.266417  5.722849  149.633246\n",
            "\n",
            "[100000 rows x 5 columns]\n",
            "\n",
            "id         0\n",
            "f0         0\n",
            "f1         0\n",
            "f2         0\n",
            "product    0\n",
            "dtype: int64\n",
            "\n",
            "<class 'pandas.core.frame.DataFrame'>\n",
            "RangeIndex: 100000 entries, 0 to 99999\n",
            "Data columns (total 5 columns):\n",
            " #   Column   Non-Null Count   Dtype  \n",
            "---  ------   --------------   -----  \n",
            " 0   id       100000 non-null  object \n",
            " 1   f0       100000 non-null  float64\n",
            " 2   f1       100000 non-null  float64\n",
            " 3   f2       100000 non-null  float64\n",
            " 4   product  100000 non-null  float64\n",
            "dtypes: float64(4), object(1)\n",
            "memory usage: 3.8+ MB\n",
            "None\n",
            "\n",
            "                  f0             f1             f2        product\n",
            "count  100000.000000  100000.000000  100000.000000  100000.000000\n",
            "mean        0.500419       0.250143       2.502647      92.500000\n",
            "std         0.871832       0.504433       3.248248      44.288691\n",
            "min        -1.408605      -0.848218     -12.088328       0.000000\n",
            "25%        -0.072580      -0.200881       0.287748      56.497507\n",
            "50%         0.502360       0.250252       2.515969      91.849972\n",
            "75%         1.073581       0.700646       4.715088     128.564089\n",
            "max         2.362331       1.343769      16.003790     185.364347\n"
          ]
        }
      ],
      "source": [
        "print(geo_data_0)\n",
        "print()\n",
        "print(geo_data_0.isnull().sum())\n",
        "print()\n",
        "print(geo_data_0.info())\n",
        "print()\n",
        "print(geo_data_0.describe())"
      ]
    },
    {
      "cell_type": "code",
      "execution_count": null,
      "metadata": {
        "id": "9X2mAyYpwChP",
        "outputId": "7a526042-0e0f-454c-e09d-8d66d3d39378"
      },
      "outputs": [
        {
          "data": {
            "text/plain": [
              "<AxesSubplot:>"
            ]
          },
          "execution_count": 4,
          "metadata": {},
          "output_type": "execute_result"
        },
        {
          "data": {
            "image/png": "[encoded data removed]",
            "text/plain": [
              "<Figure size 648x360 with 2 Axes>"
            ]
          },
          "metadata": {
            "needs_background": "light"
          },
          "output_type": "display_data"
        }
      ],
      "source": [
        "plt.figure(figsize=(9,5))\n",
        "sns.heatmap(geo_data_0.corr(), annot=True)"
      ]
    },
    {
      "cell_type": "code",
      "execution_count": null,
      "metadata": {
        "id": "Rq_4kJVAwChQ",
        "outputId": "91b39fde-c291-4f67-959d-6fd546bbf957"
      },
      "outputs": [
        {
          "name": "stdout",
          "output_type": "stream",
          "text": [
            "          id         f0         f1        f2     product\n",
            "0      kBEdx -15.001348  -8.276000 -0.005876    3.179103\n",
            "1      62mP7  14.272088  -3.475083  0.999183   26.953261\n",
            "2      vyE1P   6.263187  -5.948386  5.001160  134.766305\n",
            "3      KcrkZ -13.081196 -11.506057  4.999415  137.945408\n",
            "4      AHL4O  12.702195  -8.147433  5.004363  134.766305\n",
            "...      ...        ...        ...       ...         ...\n",
            "99995  QywKC   9.535637  -6.878139  1.998296   53.906522\n",
            "99996  ptvty -10.160631 -12.558096  5.005581  137.945408\n",
            "99997  09gWa  -7.378891  -3.084104  4.998651  137.945408\n",
            "99998  rqwUm   0.665714  -6.152593  1.000146   30.132364\n",
            "99999  relB0  -3.426139  -7.794274 -0.003299    3.179103\n",
            "\n",
            "[100000 rows x 5 columns]\n",
            "\n",
            "id         0\n",
            "f0         0\n",
            "f1         0\n",
            "f2         0\n",
            "product    0\n",
            "dtype: int64\n",
            "\n",
            "<class 'pandas.core.frame.DataFrame'>\n",
            "RangeIndex: 100000 entries, 0 to 99999\n",
            "Data columns (total 5 columns):\n",
            " #   Column   Non-Null Count   Dtype  \n",
            "---  ------   --------------   -----  \n",
            " 0   id       100000 non-null  object \n",
            " 1   f0       100000 non-null  float64\n",
            " 2   f1       100000 non-null  float64\n",
            " 3   f2       100000 non-null  float64\n",
            " 4   product  100000 non-null  float64\n",
            "dtypes: float64(4), object(1)\n",
            "memory usage: 3.8+ MB\n",
            "None\n",
            "\n",
            "                  f0             f1             f2        product\n",
            "count  100000.000000  100000.000000  100000.000000  100000.000000\n",
            "mean        1.141296      -4.796579       2.494541      68.825000\n",
            "std         8.965932       5.119872       1.703572      45.944423\n",
            "min       -31.609576     -26.358598      -0.018144       0.000000\n",
            "25%        -6.298551      -8.267985       1.000021      26.953261\n",
            "50%         1.153055      -4.813172       2.011479      57.085625\n",
            "75%         8.621015      -1.332816       3.999904     107.813044\n",
            "max        29.421755      18.734063       5.019721     137.945408\n"
          ]
        }
      ],
      "source": [
        "print(geo_data_1)\n",
        "print()\n",
        "print(geo_data_1.isnull().sum())\n",
        "print()\n",
        "print(geo_data_1.info())\n",
        "print()\n",
        "print(geo_data_1.describe())"
      ]
    },
    {
      "cell_type": "code",
      "execution_count": null,
      "metadata": {
        "id": "7f5sFyYqwChR",
        "outputId": "a5e3c18a-eed8-4832-829a-6000b5f56a73"
      },
      "outputs": [
        {
          "data": {
            "text/plain": [
              "<AxesSubplot:>"
            ]
          },
          "execution_count": 6,
          "metadata": {},
          "output_type": "execute_result"
        },
        {
          "data": {
            "image/png": "[encoded data removed]",
            "text/plain": [
              "<Figure size 648x360 with 2 Axes>"
            ]
          },
          "metadata": {
            "needs_background": "light"
          },
          "output_type": "display_data"
        }
      ],
      "source": [
        "plt.figure(figsize=(9,5))\n",
        "sns.heatmap(geo_data_1.corr(), annot=True)"
      ]
    },
    {
      "cell_type": "code",
      "execution_count": null,
      "metadata": {
        "id": "yJmz4JwKwChS",
        "outputId": "616eab3f-b82f-4e96-c41a-3262cfd26817"
      },
      "outputs": [
        {
          "name": "stdout",
          "output_type": "stream",
          "text": [
            "          id        f0        f1        f2     product\n",
            "0      fwXo0 -1.146987  0.963328 -0.828965   27.758673\n",
            "1      WJtFt  0.262778  0.269839 -2.530187   56.069697\n",
            "2      ovLUW  0.194587  0.289035 -5.586433   62.871910\n",
            "3      q6cA6  2.236060 -0.553760  0.930038  114.572842\n",
            "4      WPMUX -0.515993  1.716266  5.899011  149.600746\n",
            "...      ...       ...       ...       ...         ...\n",
            "99995  4GxBu -1.777037  1.125220  6.263374  172.327046\n",
            "99996  YKFjq -1.261523 -0.894828  2.524545  138.748846\n",
            "99997  tKPY3 -1.199934 -2.957637  5.219411  157.080080\n",
            "99998  nmxp2 -2.419896  2.417221 -5.548444   51.795253\n",
            "99999  V9kWn -2.551421 -2.025625  6.090891  102.775767\n",
            "\n",
            "[100000 rows x 5 columns]\n",
            "\n",
            "id         0\n",
            "f0         0\n",
            "f1         0\n",
            "f2         0\n",
            "product    0\n",
            "dtype: int64\n",
            "\n",
            "<class 'pandas.core.frame.DataFrame'>\n",
            "RangeIndex: 100000 entries, 0 to 99999\n",
            "Data columns (total 5 columns):\n",
            " #   Column   Non-Null Count   Dtype  \n",
            "---  ------   --------------   -----  \n",
            " 0   id       100000 non-null  object \n",
            " 1   f0       100000 non-null  float64\n",
            " 2   f1       100000 non-null  float64\n",
            " 3   f2       100000 non-null  float64\n",
            " 4   product  100000 non-null  float64\n",
            "dtypes: float64(4), object(1)\n",
            "memory usage: 3.8+ MB\n",
            "None\n",
            "\n",
            "                  f0             f1             f2        product\n",
            "count  100000.000000  100000.000000  100000.000000  100000.000000\n",
            "mean        0.002023      -0.002081       2.495128      95.000000\n",
            "std         1.732045       1.730417       3.473445      44.749921\n",
            "min        -8.760004      -7.084020     -11.970335       0.000000\n",
            "25%        -1.162288      -1.174820       0.130359      59.450441\n",
            "50%         0.009424      -0.009482       2.484236      94.925613\n",
            "75%         1.158535       1.163678       4.858794     130.595027\n",
            "max         7.238262       7.844801      16.739402     190.029838\n"
          ]
        }
      ],
      "source": [
        "print(geo_data_2)\n",
        "print()\n",
        "print(geo_data_2.isnull().sum())\n",
        "print()\n",
        "print(geo_data_2.info())\n",
        "print()\n",
        "print(geo_data_2.describe())"
      ]
    },
    {
      "cell_type": "code",
      "execution_count": null,
      "metadata": {
        "id": "KT8hSpXgwChU",
        "outputId": "b55ae75a-53d4-4517-fc91-54cc6d988503"
      },
      "outputs": [
        {
          "data": {
            "text/plain": [
              "<AxesSubplot:>"
            ]
          },
          "execution_count": 8,
          "metadata": {},
          "output_type": "execute_result"
        },
        {
          "data": {
            "image/png": "[encoded data removed]",
            "text/plain": [
              "<Figure size 648x360 with 2 Axes>"
            ]
          },
          "metadata": {
            "needs_background": "light"
          },
          "output_type": "display_data"
        }
      ],
      "source": [
        "plt.figure(figsize=(9,5))\n",
        "sns.heatmap(geo_data_2.corr(), annot=True)"
      ]
    },
    {
      "cell_type": "markdown",
      "metadata": {
        "id": "PCxI8R4NwChU"
      },
      "source": [
        "После прочтения и предварительного просмотра данных таблицы содержат одинаковые названия столбцов и показвают данные по разным регионам. Во всех датасетах одинаковое количество значений. Также во всех таблицах отсутствуют пропуски, ура.\n",
        "По графикам матриц корреляции отчетливо видна линейная зависимость, значит модель линейной регрессии идеально подойдет для этих данных."
      ]
    },
    {
      "cell_type": "code",
      "execution_count": null,
      "metadata": {
        "id": "omssSOHTwChX"
      },
      "outputs": [],
      "source": [
        "geo_data_0 = geo_data_0.drop(columns=['id'], axis=0)\n",
        "geo_data_1 = geo_data_1.drop(columns=['id'], axis=0)\n",
        "geo_data_2 = geo_data_2.drop(columns=['id'], axis=0)"
      ]
    },
    {
      "cell_type": "markdown",
      "metadata": {
        "id": "MHwj1nNIwChZ"
      },
      "source": [
        "Удалим столбец с информацией об id скважин, так как при дальнейшей работе с данными и стандартизации она будет мешать, а информация, указанная в ней нам не требуется."
      ]
    },
    {
      "cell_type": "markdown",
      "metadata": {
        "id": "D2jCcSiWwCha"
      },
      "source": [
        "## Обучение и проверка модели"
      ]
    },
    {
      "cell_type": "markdown",
      "metadata": {
        "id": "QJA2B_7vwCha"
      },
      "source": [
        "Разделим данные на обучающую и валидационную выборки в соотношении 75:25. Удобнее всего будет сделать это с помощью функции, которая принимает на вход датасет и делит его. Целевой признак это объем запасов (product)."
      ]
    },
    {
      "cell_type": "code",
      "execution_count": null,
      "metadata": {
        "id": "sMvEW5sqwChb"
      },
      "outputs": [],
      "source": [
        "def split(data): # разбиваем датасет на обучающую и валидационные выборки\n",
        "    features = data.drop(['product'], axis=1)\n",
        "    target = data['product']\n",
        "    features_train, features_valid, target_train, target_valid = train_test_split(features, \n",
        "                                                                                  target, \n",
        "                                                                                  test_size=0.25, \n",
        "                                                                                  random_state=12345)\n",
        "    return features_train, target_train, features_valid, target_valid"
      ]
    },
    {
      "cell_type": "code",
      "execution_count": null,
      "metadata": {
        "id": "0ppCrpRtwChc"
      },
      "outputs": [],
      "source": [
        "features_train_0, target_train_0, features_valid_0, target_valid_0 = split(geo_data_0)\n",
        "features_train_1, target_train_1, features_valid_1, target_valid_1 = split(geo_data_1)\n",
        "features_train_2, target_train_2, features_valid_2, target_valid_2 = split(geo_data_2)"
      ]
    },
    {
      "cell_type": "markdown",
      "metadata": {
        "id": "RqN_KYRewChd"
      },
      "source": [
        "Проверим все ли данные правильно разделились."
      ]
    },
    {
      "cell_type": "code",
      "execution_count": null,
      "metadata": {
        "id": "Z1IaJUjBwChd",
        "outputId": "1073d1f9-e05e-44c9-c849-8c36d71a62e5"
      },
      "outputs": [
        {
          "name": "stdout",
          "output_type": "stream",
          "text": [
            "Обучающие данные:75000\n",
            "Валидационные: 25000\n",
            "\n",
            "Обучающие данные:75000\n",
            "Валидационные: 25000\n",
            "\n",
            "Обучающие данные:75000\n",
            "Валидационные: 25000\n"
          ]
        }
      ],
      "source": [
        "print(f'Обучающие данные:{features_train_0.shape[0]}\\nВалидационные: {features_valid_0.shape[0]}')\n",
        "print()\n",
        "print(f'Обучающие данные:{features_train_1.shape[0]}\\nВалидационные: {features_valid_1.shape[0]}')\n",
        "print()\n",
        "print(f'Обучающие данные:{features_train_2.shape[0]}\\nВалидационные: {features_valid_2.shape[0]}')"
      ]
    },
    {
      "cell_type": "markdown",
      "metadata": {
        "id": "CZ1UoaBwwChf"
      },
      "source": [
        "Теперь можно масштабировать данные методом стандартизации."
      ]
    },
    {
      "cell_type": "code",
      "execution_count": null,
      "metadata": {
        "id": "t_NdBxy4wChg"
      },
      "outputs": [],
      "source": [
        "scaler = StandardScaler()\n",
        "scaler.fit(features_train_0)\n",
        "features_train_0 = scaler.transform(features_train_0)\n",
        "features_valid_0 = scaler.transform(features_valid_0)\n",
        "\n",
        "scaler.fit(features_train_1)\n",
        "features_train_1 = scaler.transform(features_train_1)\n",
        "features_valid_1 = scaler.transform(features_valid_1)\n",
        "\n",
        "scaler.fit(features_train_2)\n",
        "features_train_2 = scaler.transform(features_train_2)\n",
        "features_valid_2 = scaler.transform(features_valid_2)"
      ]
    },
    {
      "cell_type": "markdown",
      "metadata": {
        "id": "dnraFp00wChi"
      },
      "source": [
        "На данном этапе мы поделили полученные датасеты на обучающую и валидационную выборки, масштабировали их методом стандартизации и переходим к работе с моделью. Обучим модель линейной регрессии и сделаем предсказания."
      ]
    },
    {
      "cell_type": "code",
      "execution_count": null,
      "metadata": {
        "id": "Dt9BOjPowChj"
      },
      "outputs": [],
      "source": [
        "model = LinearRegression() # модель линейная регрессия"
      ]
    },
    {
      "cell_type": "code",
      "execution_count": null,
      "metadata": {
        "id": "LFy1_QwgwChj"
      },
      "outputs": [],
      "source": [
        "def fitting(features_train, target_train, features_valid, target_valid): # обучаем модель\n",
        "    model.fit(features_train, target_train)\n",
        "    return pd.Series(model.predict(features_valid)), target_valid"
      ]
    },
    {
      "cell_type": "code",
      "execution_count": null,
      "metadata": {
        "id": "u6u0Bu0qwChl"
      },
      "outputs": [],
      "source": [
        "predicted_0, target_0 = fitting(features_train_0, target_train_0, features_valid_0, target_valid_0)\n",
        "predicted_1, target_1 = fitting(features_train_1, target_train_1, features_valid_1, target_valid_1)\n",
        "predicted_2, target_2 = fitting(features_train_2, target_train_2, features_valid_2, target_valid_2)"
      ]
    },
    {
      "cell_type": "markdown",
      "metadata": {
        "id": "jTLLA2wSwChm"
      },
      "source": [
        "Предсказания и правильные ответы сохранены, теперь выведем средний запас предсказанного сырья и RMSE модели."
      ]
    },
    {
      "cell_type": "code",
      "execution_count": null,
      "metadata": {
        "id": "tAleFWQiwChm"
      },
      "outputs": [],
      "source": [
        "def results(answers, predictions):\n",
        "    mse = mean_squared_error(answers, predictions)\n",
        "    print('Средний запас сырья:', predictions.mean())\n",
        "    print('RMSE:', mse ** 0.5)"
      ]
    },
    {
      "cell_type": "code",
      "execution_count": null,
      "metadata": {
        "id": "sDl50wV_wChn",
        "outputId": "18231de0-2a89-448c-cdde-6bb15f963fe5"
      },
      "outputs": [
        {
          "name": "stdout",
          "output_type": "stream",
          "text": [
            "Регион 0\n",
            "\n",
            "Средний запас сырья: 92.59256778438035\n",
            "RMSE: 37.5794217150813\n",
            "--------------------------------------\n",
            "Регион 1\n",
            "\n",
            "Средний запас сырья: 68.728546895446\n",
            "RMSE: 0.893099286775617\n",
            "--------------------------------------\n",
            "Регион 2\n",
            "\n",
            "Средний запас сырья: 94.96504596800489\n",
            "RMSE: 40.02970873393434\n",
            "--------------------------------------\n"
          ]
        }
      ],
      "source": [
        "print('Регион 0')\n",
        "print()\n",
        "results(target_0, predicted_0)\n",
        "print('--------------------------------------')\n",
        "print('Регион 1')\n",
        "print()\n",
        "results(target_1, predicted_1)\n",
        "print('--------------------------------------')\n",
        "print('Регион 2')\n",
        "print()\n",
        "results(target_2, predicted_2)\n",
        "print('--------------------------------------')"
      ]
    },
    {
      "cell_type": "markdown",
      "metadata": {
        "id": "MESV7DllwCho"
      },
      "source": [
        "Таким образом, мы обучили модель линейной регрессии на полученных данных и сделали предсказания на валидационной выборке. Лучше всего наша модель предсказывает данные в 1 регионе, так как там метрика RMSE показывает наилучший результат. Средний запас сырья больше в регионах 0 и 3, но и показатель ошибки там достаточно высокий."
      ]
    },
    {
      "cell_type": "markdown",
      "metadata": {
        "id": "97UjWoUiwChq"
      },
      "source": [
        "## Подготовка к расчёту прибыли"
      ]
    },
    {
      "cell_type": "markdown",
      "metadata": {
        "id": "gYcew8dEwChr"
      },
      "source": [
        "При разведке региона исследуют 500 точек, из которых с помощью машинного обучения выбирают 200 лучших для разработки.\n",
        "Бюджет на разработку скважин в регионе — 10 млрд рублей.\n",
        "При нынешних ценах один баррель сырья приносит 450 рублей дохода. Доход с каждой единицы продукта составляет 450 тыс. рублей, поскольку объём указан в тысячах баррелей.\n",
        "После оценки рисков нужно оставить лишь те регионы, в которых вероятность убытков меньше 2.5%. Среди них выбирают регион с наибольшей средней прибылью."
      ]
    },
    {
      "cell_type": "code",
      "execution_count": null,
      "metadata": {
        "id": "T-hcLvszwChs",
        "outputId": "dddf4b19-4c0d-40dd-9234-71d43e13a78f"
      },
      "outputs": [
        {
          "name": "stdout",
          "output_type": "stream",
          "text": [
            "111.11111111111111\n"
          ]
        }
      ],
      "source": [
        "BUDGET = 10_000_000_000 # общий бюджет\n",
        "OIL_WELLS = 200 # лучшие скважины для разработки\n",
        "PROFIT = 450000 # доход с 1 барреля сырья\n",
        "\n",
        "ONE_WELL = BUDGET / OIL_WELLS # цена бурения 1 скважины исходя из общего бюджета\n",
        "print(ONE_WELL / PROFIT) # объем сырья для окупаемости скважины"
      ]
    },
    {
      "cell_type": "markdown",
      "metadata": {
        "id": "xaWdz2OHwChu"
      },
      "source": [
        "111 тысяч баррелей минимально необходимый объем для того, чтобы скважина окупилась. Согласно нашим предыдущим расчетам, средний запас сырья в исследуемых регионах 92, 69 и 95 тысяч баррелей соответственно, что ниже необходимого порога. Тем не менее рассчитаем среднюю прибыль по каждому региону."
      ]
    },
    {
      "cell_type": "code",
      "execution_count": null,
      "metadata": {
        "id": "9L-BvXUkwChw"
      },
      "outputs": [],
      "source": [
        "def revenue(target, probabilities, count):\n",
        "    target = pd.Series(target).reset_index(drop=True)\n",
        "    probabilities = pd.Series(probabilities).reset_index(drop=True)\n",
        "    probs_sorted = probabilities.sort_values(ascending=False)\n",
        "    selected = target[probs_sorted.index][:count]\n",
        "    return ((PROFIT * selected.sum() - BUDGET)) "
      ]
    },
    {
      "cell_type": "code",
      "execution_count": null,
      "metadata": {
        "id": "miiXpXmXwChx",
        "outputId": "6ffdd079-ab67-4611-dbf8-d48ca66b32c1"
      },
      "outputs": [
        {
          "name": "stdout",
          "output_type": "stream",
          "text": [
            "Прибыль региона 0: 3320826043.1398506 млн. руб.\n",
            "Прибыль региона 1: 2415086696.681511 млн. руб.\n",
            "Прибыль региона 2: 2710349963.5998325 млн. руб.\n"
          ]
        }
      ],
      "source": [
        "print('Прибыль региона 0:', revenue(target_0, predicted_0, OIL_WELLS),'млн. руб.')\n",
        "print('Прибыль региона 1:', revenue(target_1, predicted_1, OIL_WELLS), 'млн. руб.')\n",
        "print('Прибыль региона 2:', revenue(target_2, predicted_2, OIL_WELLS), 'млн. руб.')"
      ]
    },
    {
      "cell_type": "markdown",
      "metadata": {
        "id": "MwM5wddywChz"
      },
      "source": [
        "Самым прибыльным получился регион 0. "
      ]
    },
    {
      "cell_type": "markdown",
      "metadata": {
        "id": "bfRwN4L4wChz"
      },
      "source": [
        "## Расчёт прибыли и рисков "
      ]
    },
    {
      "cell_type": "markdown",
      "metadata": {
        "id": "Ls7KjNGfwCh0"
      },
      "source": [
        "Применим технику Bootstrap для дальнейших расчетов."
      ]
    },
    {
      "cell_type": "code",
      "execution_count": null,
      "metadata": {
        "id": "DH5wU-k0wCh1"
      },
      "outputs": [],
      "source": [
        "bootstrap_samples = 1000\n",
        "state = np.random.RandomState(12345)"
      ]
    },
    {
      "cell_type": "code",
      "execution_count": null,
      "metadata": {
        "id": "7jv23ieLwCh1"
      },
      "outputs": [],
      "source": [
        "def bootstrap (target, predictions):\n",
        "    values = []\n",
        "    for i in range(bootstrap_samples):\n",
        "        target_subsample = target.reset_index(drop=True).sample(n=500, replace=True, random_state=state)\n",
        "        probs_subsample = predictions[target_subsample.index]\n",
        "        values.append(revenue(target_subsample, probs_subsample, OIL_WELLS))\n",
        "\n",
        "    values = pd.Series(values)\n",
        "    mean = values.mean()\n",
        "    lower = values.quantile(.025)\n",
        "    upper = values.quantile(.975)\n",
        "    confidence_interval = (values.quantile(0.025), values.quantile(0.975))\n",
        "\n",
        "    print(\"Средняя выручка, млн.руб.:\", mean)\n",
        "    print(\"Доверительный интервал, минимум:\", lower)\n",
        "    print(\"Доверительный интервал, максимум:\", upper)\n",
        "    print(\"Риски убытка:\", (values < 0).mean())\n",
        "    ax=values.plot(kind='hist', bins=10, grid=True)  \n",
        "    ax.set_xlabel('Прибыль, млн.руб.', fontsize=10)\n",
        "    plt.show()"
      ]
    },
    {
      "cell_type": "markdown",
      "metadata": {
        "id": "KrVnLcFfwCh4"
      },
      "source": [
        "### Регион 0"
      ]
    },
    {
      "cell_type": "code",
      "execution_count": null,
      "metadata": {
        "id": "N9kCBNuCwCh4",
        "outputId": "432660a4-54e7-4333-de22-6ec698ea076f"
      },
      "outputs": [
        {
          "name": "stdout",
          "output_type": "stream",
          "text": [
            "Средняя выручка, млн.руб.: 396164984.8023711\n",
            "Доверительный интервал, минимум: -111215545.89049526\n",
            "Доверительный интервал, максимум: 909766941.5534226\n",
            "Риски убытка: 0.069\n"
          ]
        },
        {
          "data": {
            "image/png": "[encoded data removed]",
            "text/plain": [
              "<Figure size 432x288 with 1 Axes>"
            ]
          },
          "metadata": {
            "needs_background": "light"
          },
          "output_type": "display_data"
        }
      ],
      "source": [
        "bootstrap(target_0, predicted_0)"
      ]
    },
    {
      "cell_type": "markdown",
      "metadata": {
        "id": "QThdHeRQwCh5"
      },
      "source": [
        "### Регион 1"
      ]
    },
    {
      "cell_type": "code",
      "execution_count": null,
      "metadata": {
        "id": "POyTlVPmwCh6",
        "outputId": "3cb3532d-5dc5-4ea3-b677-b4dfa077f353"
      },
      "outputs": [
        {
          "name": "stdout",
          "output_type": "stream",
          "text": [
            "Средняя выручка, млн.руб.: 461155817.2772397\n",
            "Доверительный интервал, минимум: 78050810.7517417\n",
            "Доверительный интервал, максимум: 862952060.2637234\n",
            "Риски убытка: 0.007\n"
          ]
        },
        {
          "data": {
            "image/png": "[encoded data removed]",
            "text/plain": [
              "<Figure size 432x288 with 1 Axes>"
            ]
          },
          "metadata": {
            "needs_background": "light"
          },
          "output_type": "display_data"
        }
      ],
      "source": [
        "bootstrap(target_1, predicted_1)"
      ]
    },
    {
      "cell_type": "markdown",
      "metadata": {
        "id": "eUX52npnwCh7"
      },
      "source": [
        "### Регион 2"
      ]
    },
    {
      "cell_type": "code",
      "execution_count": null,
      "metadata": {
        "id": "tx5kHRERwCh8",
        "outputId": "0b95f44a-dfbb-49fa-aa14-dfa3678b259a"
      },
      "outputs": [
        {
          "name": "stdout",
          "output_type": "stream",
          "text": [
            "Средняя выручка, млн.руб.: 392950475.17060447\n",
            "Доверительный интервал, минимум: -112227625.37857565\n",
            "Доверительный интервал, максимум: 934562914.5511636\n",
            "Риски убытка: 0.065\n"
          ]
        },
        {
          "data": {
            "image/png": "[encoded data removed]",
            "text/plain": [
              "<Figure size 432x288 with 1 Axes>"
            ]
          },
          "metadata": {
            "needs_background": "light"
          },
          "output_type": "display_data"
        }
      ],
      "source": [
        "bootstrap(target_2, predicted_2)"
      ]
    },
    {
      "cell_type": "markdown",
      "metadata": {
        "id": "Bdc8sTckwCh9"
      },
      "source": [
        "Итак, после применения метода bootstrap можно сделать следующие выводы:\n",
        "* Наибольшая средняя выручка оказалась в регионе 1 (459014152.62222886 млн.руб.). \n",
        "* Доверительный интервал региона 1 полностью лежит в положительном диапозоне, а значит и вероятная прибыль также находится в нем, в регионах 0 и 2 нижняя граница доверительного интервала отрицательная, то есть и доход также может оказаться убыточным.\n",
        "* Риски убытков в регионе 1 также ниже всех остальных.\n",
        "\n",
        "**На основании проведенного анализа наилучший регион для разработки месторождения - регион 1**"
      ]
    }
  ],
  "metadata": {
    "ExecuteTimeLog": [
      {
        "duration": 379,
        "start_time": "2023-01-16T09:05:10.124Z"
      },
      {
        "duration": 707,
        "start_time": "2023-01-16T09:05:10.505Z"
      },
      {
        "duration": 419,
        "start_time": "2023-01-17T13:01:19.672Z"
      },
      {
        "duration": 1361,
        "start_time": "2023-01-17T13:01:20.096Z"
      },
      {
        "duration": 24,
        "start_time": "2023-01-17T13:04:16.160Z"
      },
      {
        "duration": 12,
        "start_time": "2023-01-17T13:04:18.734Z"
      },
      {
        "duration": 14,
        "start_time": "2023-01-17T13:04:19.191Z"
      },
      {
        "duration": 13,
        "start_time": "2023-01-17T13:07:51.016Z"
      },
      {
        "duration": 12,
        "start_time": "2023-01-17T13:08:03.908Z"
      },
      {
        "duration": 17,
        "start_time": "2023-01-17T13:08:33.503Z"
      },
      {
        "duration": 23,
        "start_time": "2023-01-17T13:08:43.317Z"
      },
      {
        "duration": 69,
        "start_time": "2023-01-17T13:09:21.938Z"
      },
      {
        "duration": 67,
        "start_time": "2023-01-17T13:10:34.090Z"
      },
      {
        "duration": 69,
        "start_time": "2023-01-17T13:10:51.337Z"
      },
      {
        "duration": 53,
        "start_time": "2023-01-17T13:11:04.521Z"
      },
      {
        "duration": 4,
        "start_time": "2023-01-17T13:25:13.252Z"
      },
      {
        "duration": 76,
        "start_time": "2023-01-17T13:25:14.124Z"
      },
      {
        "duration": 9,
        "start_time": "2023-01-17T13:26:38.007Z"
      },
      {
        "duration": 1186,
        "start_time": "2023-01-17T13:27:08.295Z"
      },
      {
        "duration": 375,
        "start_time": "2023-01-17T13:27:10.039Z"
      },
      {
        "duration": 54,
        "start_time": "2023-01-17T13:27:10.649Z"
      },
      {
        "duration": 50,
        "start_time": "2023-01-17T13:27:11.054Z"
      },
      {
        "duration": 47,
        "start_time": "2023-01-17T13:27:11.267Z"
      },
      {
        "duration": 3,
        "start_time": "2023-01-17T13:27:12.370Z"
      },
      {
        "duration": 65,
        "start_time": "2023-01-17T13:27:13.139Z"
      },
      {
        "duration": 4,
        "start_time": "2023-01-17T13:30:00.297Z"
      },
      {
        "duration": 70,
        "start_time": "2023-01-17T13:30:04.908Z"
      },
      {
        "duration": 4,
        "start_time": "2023-01-17T13:30:54.038Z"
      },
      {
        "duration": 74,
        "start_time": "2023-01-17T13:31:37.780Z"
      },
      {
        "duration": 4,
        "start_time": "2023-01-17T13:31:43.296Z"
      },
      {
        "duration": 75,
        "start_time": "2023-01-17T13:34:58.138Z"
      },
      {
        "duration": 3,
        "start_time": "2023-01-17T13:38:47.542Z"
      },
      {
        "duration": 11,
        "start_time": "2023-01-17T13:42:21.775Z"
      },
      {
        "duration": 3,
        "start_time": "2023-01-17T13:43:36.328Z"
      },
      {
        "duration": 29,
        "start_time": "2023-01-17T13:43:36.505Z"
      },
      {
        "duration": 4,
        "start_time": "2023-01-17T13:43:37.630Z"
      },
      {
        "duration": 27,
        "start_time": "2023-01-17T13:43:38.629Z"
      },
      {
        "duration": 4,
        "start_time": "2023-01-17T13:48:17.804Z"
      },
      {
        "duration": 29,
        "start_time": "2023-01-17T13:48:48.278Z"
      },
      {
        "duration": 4,
        "start_time": "2023-01-17T13:48:59.453Z"
      },
      {
        "duration": 24,
        "start_time": "2023-01-17T13:49:30.408Z"
      },
      {
        "duration": 4,
        "start_time": "2023-01-17T13:52:19.505Z"
      },
      {
        "duration": 68,
        "start_time": "2023-01-17T13:56:48.499Z"
      },
      {
        "duration": 65,
        "start_time": "2023-01-17T13:57:28.500Z"
      },
      {
        "duration": 4,
        "start_time": "2023-01-17T13:57:55.797Z"
      },
      {
        "duration": 38,
        "start_time": "2023-01-17T13:58:56.141Z"
      },
      {
        "duration": 3,
        "start_time": "2023-01-17T14:05:08.994Z"
      },
      {
        "duration": 3,
        "start_time": "2023-01-17T14:05:55.662Z"
      },
      {
        "duration": 70,
        "start_time": "2023-01-17T14:07:17.766Z"
      },
      {
        "duration": 5,
        "start_time": "2023-01-17T14:07:28.299Z"
      },
      {
        "duration": 9,
        "start_time": "2023-01-17T14:08:09.970Z"
      },
      {
        "duration": 80,
        "start_time": "2023-01-17T14:39:22.150Z"
      },
      {
        "duration": 14,
        "start_time": "2023-01-17T14:39:32.888Z"
      },
      {
        "duration": 3,
        "start_time": "2023-01-17T14:40:13.725Z"
      },
      {
        "duration": 4,
        "start_time": "2023-01-17T14:41:49.636Z"
      },
      {
        "duration": 4,
        "start_time": "2023-01-17T14:42:30.447Z"
      },
      {
        "duration": 6,
        "start_time": "2023-01-17T14:43:32.186Z"
      },
      {
        "duration": 3,
        "start_time": "2023-01-17T14:53:45.970Z"
      },
      {
        "duration": 14,
        "start_time": "2023-01-17T15:07:31.006Z"
      },
      {
        "duration": 70,
        "start_time": "2023-01-17T15:16:41.493Z"
      },
      {
        "duration": 1316,
        "start_time": "2023-01-17T15:17:11.134Z"
      },
      {
        "duration": 396,
        "start_time": "2023-01-17T15:17:12.452Z"
      },
      {
        "duration": 79,
        "start_time": "2023-01-17T15:17:12.851Z"
      },
      {
        "duration": 65,
        "start_time": "2023-01-17T15:17:12.932Z"
      },
      {
        "duration": 70,
        "start_time": "2023-01-17T15:17:12.999Z"
      },
      {
        "duration": 22,
        "start_time": "2023-01-17T15:17:13.080Z"
      },
      {
        "duration": 39,
        "start_time": "2023-01-17T15:17:13.104Z"
      },
      {
        "duration": 56,
        "start_time": "2023-01-17T15:17:13.145Z"
      },
      {
        "duration": 10,
        "start_time": "2023-01-17T15:17:13.203Z"
      },
      {
        "duration": 74,
        "start_time": "2023-01-17T15:17:13.215Z"
      },
      {
        "duration": 23,
        "start_time": "2023-01-17T15:17:13.291Z"
      },
      {
        "duration": 173,
        "start_time": "2023-01-17T15:17:13.316Z"
      },
      {
        "duration": 103,
        "start_time": "2023-01-17T15:17:13.491Z"
      },
      {
        "duration": 25,
        "start_time": "2023-01-17T15:17:13.596Z"
      },
      {
        "duration": 70,
        "start_time": "2023-01-17T15:17:13.622Z"
      },
      {
        "duration": 72,
        "start_time": "2023-01-17T15:17:13.694Z"
      },
      {
        "duration": 4,
        "start_time": "2023-01-17T15:17:38.827Z"
      },
      {
        "duration": 77,
        "start_time": "2023-01-17T15:17:40.072Z"
      },
      {
        "duration": 68,
        "start_time": "2023-01-17T15:18:05.895Z"
      },
      {
        "duration": 82,
        "start_time": "2023-01-17T15:18:33.027Z"
      },
      {
        "duration": 7,
        "start_time": "2023-01-17T15:20:09.662Z"
      },
      {
        "duration": 9,
        "start_time": "2023-01-17T15:22:20.236Z"
      },
      {
        "duration": 9,
        "start_time": "2023-01-17T15:22:42.130Z"
      },
      {
        "duration": 73,
        "start_time": "2023-01-17T15:23:34.777Z"
      },
      {
        "duration": 85,
        "start_time": "2023-01-17T15:23:51.640Z"
      },
      {
        "duration": 137,
        "start_time": "2023-01-17T15:24:15.049Z"
      },
      {
        "duration": 22,
        "start_time": "2023-01-17T15:24:36.006Z"
      },
      {
        "duration": 4,
        "start_time": "2023-01-17T15:26:22.073Z"
      },
      {
        "duration": 3,
        "start_time": "2023-01-17T15:26:28.816Z"
      },
      {
        "duration": 21,
        "start_time": "2023-01-17T15:26:29.691Z"
      },
      {
        "duration": 4,
        "start_time": "2023-01-17T15:40:12.736Z"
      },
      {
        "duration": 25,
        "start_time": "2023-01-17T15:44:21.645Z"
      },
      {
        "duration": 13,
        "start_time": "2023-01-17T15:47:07.001Z"
      },
      {
        "duration": 16,
        "start_time": "2023-01-17T15:47:20.064Z"
      },
      {
        "duration": 4,
        "start_time": "2023-01-17T15:49:17.790Z"
      },
      {
        "duration": 20,
        "start_time": "2023-01-17T15:49:42.898Z"
      },
      {
        "duration": 3,
        "start_time": "2023-01-17T15:57:08.369Z"
      },
      {
        "duration": 18,
        "start_time": "2023-01-17T15:57:09.176Z"
      },
      {
        "duration": 4,
        "start_time": "2023-01-17T15:59:23.863Z"
      },
      {
        "duration": 19,
        "start_time": "2023-01-17T15:59:26.167Z"
      },
      {
        "duration": 4,
        "start_time": "2023-01-17T16:00:39.678Z"
      },
      {
        "duration": 18,
        "start_time": "2023-01-17T16:00:40.257Z"
      },
      {
        "duration": 19,
        "start_time": "2023-01-17T16:02:13.519Z"
      },
      {
        "duration": 90,
        "start_time": "2023-01-17T16:04:39.181Z"
      },
      {
        "duration": 4,
        "start_time": "2023-01-17T16:10:27.092Z"
      },
      {
        "duration": 363,
        "start_time": "2023-01-17T16:10:28.706Z"
      },
      {
        "duration": 50,
        "start_time": "2023-01-17T16:10:29.311Z"
      },
      {
        "duration": 50,
        "start_time": "2023-01-17T16:10:29.573Z"
      },
      {
        "duration": 53,
        "start_time": "2023-01-17T16:10:29.799Z"
      },
      {
        "duration": 14,
        "start_time": "2023-01-17T16:10:30.380Z"
      },
      {
        "duration": 4,
        "start_time": "2023-01-17T16:10:31.561Z"
      },
      {
        "duration": 26,
        "start_time": "2023-01-17T16:10:31.856Z"
      },
      {
        "duration": 4,
        "start_time": "2023-01-17T16:10:32.551Z"
      },
      {
        "duration": 25,
        "start_time": "2023-01-17T16:10:33.412Z"
      },
      {
        "duration": 3,
        "start_time": "2023-01-17T16:10:34.259Z"
      },
      {
        "duration": 98,
        "start_time": "2023-01-17T16:10:34.681Z"
      },
      {
        "duration": 2,
        "start_time": "2023-01-17T16:10:35.227Z"
      },
      {
        "duration": 8,
        "start_time": "2023-01-17T16:10:35.528Z"
      },
      {
        "duration": 4,
        "start_time": "2023-01-17T16:10:37.191Z"
      },
      {
        "duration": 3,
        "start_time": "2023-01-17T16:10:38.095Z"
      },
      {
        "duration": 17,
        "start_time": "2023-01-17T16:10:38.485Z"
      },
      {
        "duration": 11,
        "start_time": "2023-01-17T16:19:52.759Z"
      },
      {
        "duration": 2,
        "start_time": "2023-01-17T16:19:57.955Z"
      },
      {
        "duration": 11,
        "start_time": "2023-01-17T16:19:58.327Z"
      },
      {
        "duration": 21,
        "start_time": "2023-01-17T16:22:04.356Z"
      },
      {
        "duration": 32,
        "start_time": "2023-01-17T16:22:38.512Z"
      },
      {
        "duration": 1521,
        "start_time": "2023-01-18T08:59:29.985Z"
      },
      {
        "duration": 1522,
        "start_time": "2023-01-18T08:59:31.508Z"
      },
      {
        "duration": 52,
        "start_time": "2023-01-18T09:00:53.878Z"
      },
      {
        "duration": 332,
        "start_time": "2023-01-18T09:01:42.675Z"
      },
      {
        "duration": 280,
        "start_time": "2023-01-18T09:03:16.072Z"
      },
      {
        "duration": 253,
        "start_time": "2023-01-18T09:03:31.270Z"
      },
      {
        "duration": 319,
        "start_time": "2023-01-18T09:51:49.684Z"
      },
      {
        "duration": 359,
        "start_time": "2023-01-18T09:52:06.294Z"
      },
      {
        "duration": 280,
        "start_time": "2023-01-18T09:52:14.183Z"
      },
      {
        "duration": 1562,
        "start_time": "2023-01-20T09:10:03.286Z"
      },
      {
        "duration": 1588,
        "start_time": "2023-01-20T09:10:04.851Z"
      },
      {
        "duration": 59,
        "start_time": "2023-01-20T09:10:06.441Z"
      },
      {
        "duration": 402,
        "start_time": "2023-01-20T09:10:06.502Z"
      },
      {
        "duration": 74,
        "start_time": "2023-01-20T09:10:06.906Z"
      },
      {
        "duration": 332,
        "start_time": "2023-01-20T09:10:06.984Z"
      },
      {
        "duration": 72,
        "start_time": "2023-01-20T09:10:07.318Z"
      },
      {
        "duration": 335,
        "start_time": "2023-01-20T09:10:07.392Z"
      },
      {
        "duration": 16,
        "start_time": "2023-01-20T09:10:07.729Z"
      },
      {
        "duration": 5,
        "start_time": "2023-01-20T09:10:07.748Z"
      },
      {
        "duration": 49,
        "start_time": "2023-01-20T09:10:07.754Z"
      },
      {
        "duration": 5,
        "start_time": "2023-01-20T09:10:07.805Z"
      },
      {
        "duration": 29,
        "start_time": "2023-01-20T09:10:07.811Z"
      },
      {
        "duration": 3,
        "start_time": "2023-01-20T09:10:07.842Z"
      },
      {
        "duration": 128,
        "start_time": "2023-01-20T09:10:07.847Z"
      },
      {
        "duration": 206,
        "start_time": "2023-01-20T09:10:07.976Z"
      },
      {
        "duration": 10,
        "start_time": "2023-01-20T09:10:08.184Z"
      },
      {
        "duration": 3,
        "start_time": "2023-01-20T09:10:08.196Z"
      },
      {
        "duration": 5,
        "start_time": "2023-01-20T09:10:08.200Z"
      },
      {
        "duration": 22,
        "start_time": "2023-01-20T09:10:08.206Z"
      },
      {
        "duration": 3,
        "start_time": "2023-01-20T09:10:08.229Z"
      },
      {
        "duration": 148,
        "start_time": "2023-01-20T09:10:08.233Z"
      },
      {
        "duration": 0,
        "start_time": "2023-01-20T09:10:08.383Z"
      },
      {
        "duration": 5,
        "start_time": "2023-01-20T09:10:26.855Z"
      },
      {
        "duration": 5,
        "start_time": "2023-01-20T09:13:49.354Z"
      },
      {
        "duration": 1506,
        "start_time": "2023-01-20T09:14:05.156Z"
      },
      {
        "duration": 415,
        "start_time": "2023-01-20T09:14:06.664Z"
      },
      {
        "duration": 55,
        "start_time": "2023-01-20T09:14:07.081Z"
      },
      {
        "duration": 370,
        "start_time": "2023-01-20T09:14:07.139Z"
      },
      {
        "duration": 70,
        "start_time": "2023-01-20T09:14:07.511Z"
      },
      {
        "duration": 312,
        "start_time": "2023-01-20T09:14:07.583Z"
      },
      {
        "duration": 55,
        "start_time": "2023-01-20T09:14:07.897Z"
      },
      {
        "duration": 342,
        "start_time": "2023-01-20T09:14:07.954Z"
      },
      {
        "duration": 17,
        "start_time": "2023-01-20T09:14:08.297Z"
      },
      {
        "duration": 25,
        "start_time": "2023-01-20T09:14:08.316Z"
      },
      {
        "duration": 42,
        "start_time": "2023-01-20T09:14:08.343Z"
      },
      {
        "duration": 4,
        "start_time": "2023-01-20T09:14:08.387Z"
      },
      {
        "duration": 33,
        "start_time": "2023-01-20T09:14:08.392Z"
      },
      {
        "duration": 4,
        "start_time": "2023-01-20T09:14:08.426Z"
      },
      {
        "duration": 161,
        "start_time": "2023-01-20T09:14:08.432Z"
      },
      {
        "duration": 5,
        "start_time": "2023-01-20T09:14:08.668Z"
      },
      {
        "duration": 14,
        "start_time": "2023-01-20T09:14:08.675Z"
      },
      {
        "duration": 103,
        "start_time": "2023-01-20T09:14:08.691Z"
      },
      {
        "duration": 6,
        "start_time": "2023-01-20T09:14:08.795Z"
      },
      {
        "duration": 22,
        "start_time": "2023-01-20T09:14:08.802Z"
      },
      {
        "duration": 2,
        "start_time": "2023-01-20T09:14:08.826Z"
      },
      {
        "duration": 152,
        "start_time": "2023-01-20T09:14:08.830Z"
      },
      {
        "duration": 0,
        "start_time": "2023-01-20T09:14:08.984Z"
      },
      {
        "duration": 21,
        "start_time": "2023-01-20T09:23:17.828Z"
      },
      {
        "duration": 3,
        "start_time": "2023-01-20T09:24:09.381Z"
      },
      {
        "duration": 18,
        "start_time": "2023-01-20T09:24:09.825Z"
      },
      {
        "duration": 2,
        "start_time": "2023-01-20T09:24:11.570Z"
      },
      {
        "duration": 20,
        "start_time": "2023-01-20T09:24:12.108Z"
      },
      {
        "duration": 4,
        "start_time": "2023-01-20T09:27:44.331Z"
      },
      {
        "duration": 18,
        "start_time": "2023-01-20T09:27:44.888Z"
      },
      {
        "duration": 3,
        "start_time": "2023-01-20T09:28:01.375Z"
      },
      {
        "duration": 19,
        "start_time": "2023-01-20T09:28:01.617Z"
      },
      {
        "duration": 11,
        "start_time": "2023-01-20T09:28:18.908Z"
      },
      {
        "duration": 12,
        "start_time": "2023-01-20T09:28:38.621Z"
      },
      {
        "duration": 12,
        "start_time": "2023-01-20T09:28:48.244Z"
      },
      {
        "duration": 13,
        "start_time": "2023-01-20T09:29:21.639Z"
      },
      {
        "duration": 35,
        "start_time": "2023-01-20T09:29:38.790Z"
      },
      {
        "duration": 49,
        "start_time": "2023-01-20T11:30:25.013Z"
      },
      {
        "duration": 1744,
        "start_time": "2023-01-20T11:30:42.722Z"
      },
      {
        "duration": 1647,
        "start_time": "2023-01-20T11:30:44.469Z"
      },
      {
        "duration": 68,
        "start_time": "2023-01-20T11:30:46.118Z"
      },
      {
        "duration": 419,
        "start_time": "2023-01-20T11:30:46.188Z"
      },
      {
        "duration": 60,
        "start_time": "2023-01-20T11:30:46.609Z"
      },
      {
        "duration": 308,
        "start_time": "2023-01-20T11:30:46.670Z"
      },
      {
        "duration": 67,
        "start_time": "2023-01-20T11:30:46.980Z"
      },
      {
        "duration": 312,
        "start_time": "2023-01-20T11:30:47.049Z"
      },
      {
        "duration": 18,
        "start_time": "2023-01-20T11:30:47.363Z"
      },
      {
        "duration": 4,
        "start_time": "2023-01-20T11:30:47.785Z"
      },
      {
        "duration": 47,
        "start_time": "2023-01-20T11:30:48.198Z"
      },
      {
        "duration": 5,
        "start_time": "2023-01-20T11:30:49.156Z"
      },
      {
        "duration": 30,
        "start_time": "2023-01-20T11:30:50.033Z"
      },
      {
        "duration": 3,
        "start_time": "2023-01-20T11:30:50.901Z"
      },
      {
        "duration": 113,
        "start_time": "2023-01-20T11:30:51.226Z"
      },
      {
        "duration": 3,
        "start_time": "2023-01-20T11:30:52.089Z"
      },
      {
        "duration": 11,
        "start_time": "2023-01-20T11:30:52.547Z"
      },
      {
        "duration": 4,
        "start_time": "2023-01-20T11:30:54.612Z"
      },
      {
        "duration": 3,
        "start_time": "2023-01-20T11:30:55.659Z"
      },
      {
        "duration": 22,
        "start_time": "2023-01-20T11:30:56.839Z"
      },
      {
        "duration": 3,
        "start_time": "2023-01-20T11:30:59.654Z"
      },
      {
        "duration": 6,
        "start_time": "2023-01-20T11:31:01.654Z"
      },
      {
        "duration": 6,
        "start_time": "2023-01-20T11:31:07.899Z"
      },
      {
        "duration": 5,
        "start_time": "2023-01-20T11:31:11.179Z"
      },
      {
        "duration": 5,
        "start_time": "2023-01-20T11:31:14.522Z"
      },
      {
        "duration": 7,
        "start_time": "2023-01-20T11:31:19.398Z"
      },
      {
        "duration": 4,
        "start_time": "2023-01-20T11:31:44.894Z"
      },
      {
        "duration": 7,
        "start_time": "2023-01-20T11:31:48.102Z"
      },
      {
        "duration": 1483,
        "start_time": "2023-01-20T11:33:24.916Z"
      },
      {
        "duration": 414,
        "start_time": "2023-01-20T11:33:26.402Z"
      },
      {
        "duration": 69,
        "start_time": "2023-01-20T11:33:26.817Z"
      },
      {
        "duration": 394,
        "start_time": "2023-01-20T11:33:26.889Z"
      },
      {
        "duration": 71,
        "start_time": "2023-01-20T11:33:27.285Z"
      },
      {
        "duration": 320,
        "start_time": "2023-01-20T11:33:27.359Z"
      },
      {
        "duration": 76,
        "start_time": "2023-01-20T11:33:27.681Z"
      },
      {
        "duration": 316,
        "start_time": "2023-01-20T11:33:27.759Z"
      },
      {
        "duration": 19,
        "start_time": "2023-01-20T11:33:28.076Z"
      },
      {
        "duration": 38,
        "start_time": "2023-01-20T11:33:28.098Z"
      },
      {
        "duration": 85,
        "start_time": "2023-01-20T11:33:28.139Z"
      },
      {
        "duration": 5,
        "start_time": "2023-01-20T11:33:28.226Z"
      },
      {
        "duration": 55,
        "start_time": "2023-01-20T11:33:28.233Z"
      },
      {
        "duration": 24,
        "start_time": "2023-01-20T11:33:28.290Z"
      },
      {
        "duration": 326,
        "start_time": "2023-01-20T11:33:28.316Z"
      },
      {
        "duration": 93,
        "start_time": "2023-01-20T11:33:28.645Z"
      },
      {
        "duration": 112,
        "start_time": "2023-01-20T11:33:28.740Z"
      },
      {
        "duration": 9,
        "start_time": "2023-01-20T11:33:28.854Z"
      },
      {
        "duration": 16,
        "start_time": "2023-01-20T11:33:28.865Z"
      },
      {
        "duration": 25,
        "start_time": "2023-01-20T11:33:28.882Z"
      },
      {
        "duration": 3,
        "start_time": "2023-01-20T11:33:28.909Z"
      },
      {
        "duration": 17,
        "start_time": "2023-01-20T11:33:28.915Z"
      },
      {
        "duration": 160,
        "start_time": "2023-01-20T11:33:28.934Z"
      },
      {
        "duration": 0,
        "start_time": "2023-01-20T11:33:29.096Z"
      },
      {
        "duration": 10,
        "start_time": "2023-01-20T11:34:20.350Z"
      },
      {
        "duration": 14,
        "start_time": "2023-01-20T11:35:30.017Z"
      },
      {
        "duration": 23,
        "start_time": "2023-01-20T11:35:46.835Z"
      },
      {
        "duration": 24,
        "start_time": "2023-01-20T11:36:16.071Z"
      },
      {
        "duration": 27,
        "start_time": "2023-01-20T11:39:10.866Z"
      },
      {
        "duration": 40,
        "start_time": "2023-01-20T11:40:03.078Z"
      },
      {
        "duration": 14,
        "start_time": "2023-01-20T11:47:28.151Z"
      },
      {
        "duration": 3,
        "start_time": "2023-01-20T11:47:57.234Z"
      },
      {
        "duration": 4,
        "start_time": "2023-01-20T11:48:34.285Z"
      },
      {
        "duration": 26,
        "start_time": "2023-01-20T11:49:06.329Z"
      },
      {
        "duration": 3,
        "start_time": "2023-01-20T11:49:22.458Z"
      },
      {
        "duration": 3,
        "start_time": "2023-01-20T11:50:28.916Z"
      },
      {
        "duration": 11,
        "start_time": "2023-01-20T11:54:05.265Z"
      },
      {
        "duration": 10,
        "start_time": "2023-01-20T11:54:32.084Z"
      },
      {
        "duration": 10,
        "start_time": "2023-01-20T11:54:37.073Z"
      },
      {
        "duration": 14,
        "start_time": "2023-01-20T11:55:12.978Z"
      },
      {
        "duration": 13,
        "start_time": "2023-01-20T11:55:34.161Z"
      },
      {
        "duration": 11,
        "start_time": "2023-01-20T11:56:01.769Z"
      },
      {
        "duration": 11,
        "start_time": "2023-01-20T11:56:31.104Z"
      },
      {
        "duration": 11,
        "start_time": "2023-01-20T11:56:35.000Z"
      },
      {
        "duration": 3,
        "start_time": "2023-01-20T11:57:45.755Z"
      },
      {
        "duration": 15,
        "start_time": "2023-01-20T11:57:48.759Z"
      },
      {
        "duration": 15,
        "start_time": "2023-01-20T11:57:57.806Z"
      },
      {
        "duration": 4,
        "start_time": "2023-01-20T11:58:54.761Z"
      },
      {
        "duration": 16,
        "start_time": "2023-01-20T11:58:58.409Z"
      },
      {
        "duration": 6,
        "start_time": "2023-01-20T12:00:07.064Z"
      },
      {
        "duration": 4,
        "start_time": "2023-01-20T12:00:58.345Z"
      },
      {
        "duration": 16,
        "start_time": "2023-01-20T12:01:09.220Z"
      },
      {
        "duration": 3,
        "start_time": "2023-01-20T12:01:51.601Z"
      },
      {
        "duration": 13,
        "start_time": "2023-01-20T12:01:52.675Z"
      },
      {
        "duration": 1444,
        "start_time": "2023-01-20T12:02:03.638Z"
      },
      {
        "duration": 376,
        "start_time": "2023-01-20T12:02:05.084Z"
      },
      {
        "duration": 57,
        "start_time": "2023-01-20T12:02:05.462Z"
      },
      {
        "duration": 376,
        "start_time": "2023-01-20T12:02:05.521Z"
      },
      {
        "duration": 70,
        "start_time": "2023-01-20T12:02:05.900Z"
      },
      {
        "duration": 297,
        "start_time": "2023-01-20T12:02:05.971Z"
      },
      {
        "duration": 52,
        "start_time": "2023-01-20T12:02:06.270Z"
      },
      {
        "duration": 354,
        "start_time": "2023-01-20T12:02:06.324Z"
      },
      {
        "duration": 17,
        "start_time": "2023-01-20T12:02:06.680Z"
      },
      {
        "duration": 6,
        "start_time": "2023-01-20T12:02:06.700Z"
      },
      {
        "duration": 53,
        "start_time": "2023-01-20T12:02:06.708Z"
      },
      {
        "duration": 4,
        "start_time": "2023-01-20T12:02:06.763Z"
      },
      {
        "duration": 33,
        "start_time": "2023-01-20T12:02:06.768Z"
      },
      {
        "duration": 4,
        "start_time": "2023-01-20T12:02:06.802Z"
      },
      {
        "duration": 132,
        "start_time": "2023-01-20T12:02:06.807Z"
      },
      {
        "duration": 5,
        "start_time": "2023-01-20T12:02:06.941Z"
      },
      {
        "duration": 17,
        "start_time": "2023-01-20T12:02:07.038Z"
      },
      {
        "duration": 83,
        "start_time": "2023-01-20T12:02:07.057Z"
      },
      {
        "duration": 123,
        "start_time": "2023-01-20T12:02:07.142Z"
      },
      {
        "duration": 0,
        "start_time": "2023-01-20T12:02:07.266Z"
      },
      {
        "duration": 0,
        "start_time": "2023-01-20T12:02:07.268Z"
      },
      {
        "duration": 0,
        "start_time": "2023-01-20T12:02:07.269Z"
      },
      {
        "duration": 0,
        "start_time": "2023-01-20T12:02:07.271Z"
      },
      {
        "duration": 0,
        "start_time": "2023-01-20T12:02:07.272Z"
      },
      {
        "duration": 0,
        "start_time": "2023-01-20T12:02:07.273Z"
      },
      {
        "duration": 4,
        "start_time": "2023-01-20T12:06:11.460Z"
      },
      {
        "duration": 11,
        "start_time": "2023-01-20T12:06:25.994Z"
      },
      {
        "duration": 14,
        "start_time": "2023-01-20T12:06:35.775Z"
      },
      {
        "duration": 14,
        "start_time": "2023-01-20T12:07:20.269Z"
      },
      {
        "duration": 3,
        "start_time": "2023-01-20T12:07:39.258Z"
      },
      {
        "duration": 3,
        "start_time": "2023-01-20T12:09:10.753Z"
      },
      {
        "duration": 26,
        "start_time": "2023-01-20T12:09:18.855Z"
      },
      {
        "duration": 23,
        "start_time": "2023-01-20T12:09:33.649Z"
      },
      {
        "duration": 25,
        "start_time": "2023-01-20T12:09:39.874Z"
      },
      {
        "duration": 23,
        "start_time": "2023-01-20T12:09:45.884Z"
      },
      {
        "duration": 20,
        "start_time": "2023-01-20T12:10:11.502Z"
      },
      {
        "duration": 11,
        "start_time": "2023-01-20T12:11:12.363Z"
      },
      {
        "duration": 4,
        "start_time": "2023-01-20T12:11:19.426Z"
      },
      {
        "duration": 14,
        "start_time": "2023-01-20T12:11:19.939Z"
      },
      {
        "duration": 36,
        "start_time": "2023-01-20T12:11:35.974Z"
      },
      {
        "duration": 31,
        "start_time": "2023-01-20T12:12:00.686Z"
      },
      {
        "duration": 278,
        "start_time": "2023-01-20T12:12:19.694Z"
      },
      {
        "duration": 11,
        "start_time": "2023-01-20T12:19:56.536Z"
      },
      {
        "duration": 3,
        "start_time": "2023-01-20T12:20:05.449Z"
      },
      {
        "duration": 367,
        "start_time": "2023-01-20T12:20:05.671Z"
      },
      {
        "duration": 53,
        "start_time": "2023-01-20T12:20:06.809Z"
      },
      {
        "duration": 14,
        "start_time": "2023-01-20T12:20:27.251Z"
      },
      {
        "duration": 5,
        "start_time": "2023-01-20T12:21:12.974Z"
      },
      {
        "duration": 6,
        "start_time": "2023-01-20T12:24:47.760Z"
      },
      {
        "duration": 12,
        "start_time": "2023-01-20T12:26:36.701Z"
      },
      {
        "duration": 13,
        "start_time": "2023-01-20T12:26:51.092Z"
      },
      {
        "duration": 21,
        "start_time": "2023-01-20T12:27:05.317Z"
      },
      {
        "duration": 15,
        "start_time": "2023-01-20T12:27:49.166Z"
      },
      {
        "duration": 11,
        "start_time": "2023-01-20T12:28:01.964Z"
      },
      {
        "duration": 9,
        "start_time": "2023-01-20T12:28:15.426Z"
      },
      {
        "duration": 9,
        "start_time": "2023-01-20T12:29:12.672Z"
      },
      {
        "duration": 13,
        "start_time": "2023-01-20T12:30:02.011Z"
      },
      {
        "duration": 30,
        "start_time": "2023-01-20T12:30:34.028Z"
      },
      {
        "duration": 4,
        "start_time": "2023-01-20T12:31:20.836Z"
      },
      {
        "duration": 30,
        "start_time": "2023-01-20T12:31:47.836Z"
      },
      {
        "duration": 60,
        "start_time": "2023-01-20T12:49:13.645Z"
      },
      {
        "duration": 12,
        "start_time": "2023-01-20T12:49:31.809Z"
      },
      {
        "duration": 3,
        "start_time": "2023-01-20T12:58:14.470Z"
      },
      {
        "duration": 45,
        "start_time": "2023-01-20T12:58:15.697Z"
      },
      {
        "duration": 3,
        "start_time": "2023-01-20T12:58:17.259Z"
      },
      {
        "duration": 9,
        "start_time": "2023-01-20T12:58:17.910Z"
      },
      {
        "duration": 6,
        "start_time": "2023-01-20T12:59:31.864Z"
      },
      {
        "duration": 4,
        "start_time": "2023-01-20T12:59:42.472Z"
      },
      {
        "duration": 13,
        "start_time": "2023-01-20T12:59:42.700Z"
      },
      {
        "duration": 4,
        "start_time": "2023-01-20T12:59:44.739Z"
      },
      {
        "duration": 3,
        "start_time": "2023-01-20T12:59:45.925Z"
      },
      {
        "duration": 21,
        "start_time": "2023-01-20T12:59:46.757Z"
      },
      {
        "duration": 3,
        "start_time": "2023-01-20T12:59:49.801Z"
      },
      {
        "duration": 27,
        "start_time": "2023-01-20T12:59:51.104Z"
      },
      {
        "duration": 36,
        "start_time": "2023-01-20T13:00:31.802Z"
      },
      {
        "duration": 101,
        "start_time": "2023-01-20T13:02:01.239Z"
      },
      {
        "duration": 4,
        "start_time": "2023-01-20T13:02:10.136Z"
      },
      {
        "duration": 101,
        "start_time": "2023-01-20T13:02:10.839Z"
      },
      {
        "duration": 3,
        "start_time": "2023-01-20T13:02:14.042Z"
      },
      {
        "duration": 9,
        "start_time": "2023-01-20T13:02:14.325Z"
      },
      {
        "duration": 3,
        "start_time": "2023-01-20T13:02:15.639Z"
      },
      {
        "duration": 3,
        "start_time": "2023-01-20T13:02:16.434Z"
      },
      {
        "duration": 20,
        "start_time": "2023-01-20T13:02:16.788Z"
      },
      {
        "duration": 3,
        "start_time": "2023-01-20T13:02:19.469Z"
      },
      {
        "duration": 18,
        "start_time": "2023-01-20T13:02:20.813Z"
      },
      {
        "duration": 18,
        "start_time": "2023-01-20T13:03:16.649Z"
      },
      {
        "duration": 5,
        "start_time": "2023-01-20T13:03:35.599Z"
      },
      {
        "duration": 11,
        "start_time": "2023-01-20T13:03:49.156Z"
      },
      {
        "duration": 17,
        "start_time": "2023-01-20T13:04:06.957Z"
      },
      {
        "duration": 5,
        "start_time": "2023-01-20T13:04:35.984Z"
      },
      {
        "duration": 5,
        "start_time": "2023-01-20T13:05:39.004Z"
      },
      {
        "duration": 14,
        "start_time": "2023-01-20T13:06:19.509Z"
      },
      {
        "duration": 5,
        "start_time": "2023-01-20T13:06:36.509Z"
      },
      {
        "duration": 22,
        "start_time": "2023-01-20T13:06:36.703Z"
      },
      {
        "duration": 25,
        "start_time": "2023-01-20T13:07:14.225Z"
      },
      {
        "duration": 5,
        "start_time": "2023-01-20T13:07:34.448Z"
      },
      {
        "duration": 7,
        "start_time": "2023-01-20T13:13:37.985Z"
      },
      {
        "duration": 6,
        "start_time": "2023-01-20T13:15:42.296Z"
      },
      {
        "duration": 25,
        "start_time": "2023-01-20T13:15:46.618Z"
      },
      {
        "duration": 25,
        "start_time": "2023-01-20T13:17:14.769Z"
      },
      {
        "duration": 28,
        "start_time": "2023-01-20T13:19:17.923Z"
      },
      {
        "duration": 7,
        "start_time": "2023-01-20T13:19:27.983Z"
      },
      {
        "duration": 6,
        "start_time": "2023-01-20T13:19:38.395Z"
      },
      {
        "duration": 6,
        "start_time": "2023-01-20T13:20:11.654Z"
      },
      {
        "duration": 5,
        "start_time": "2023-01-20T13:20:40.827Z"
      },
      {
        "duration": 4,
        "start_time": "2023-01-20T13:26:32.449Z"
      },
      {
        "duration": 97,
        "start_time": "2023-01-20T13:28:27.641Z"
      },
      {
        "duration": 43,
        "start_time": "2023-01-20T13:28:58.495Z"
      },
      {
        "duration": 3,
        "start_time": "2023-01-20T13:29:47.300Z"
      },
      {
        "duration": 27,
        "start_time": "2023-01-20T13:29:48.919Z"
      },
      {
        "duration": 3,
        "start_time": "2023-01-20T13:31:03.889Z"
      },
      {
        "duration": 72,
        "start_time": "2023-01-20T13:31:04.268Z"
      },
      {
        "duration": 4,
        "start_time": "2023-01-20T13:31:17.771Z"
      },
      {
        "duration": 3,
        "start_time": "2023-01-20T13:31:25.170Z"
      },
      {
        "duration": 27,
        "start_time": "2023-01-20T13:31:25.419Z"
      },
      {
        "duration": 5,
        "start_time": "2023-01-20T13:31:27.660Z"
      },
      {
        "duration": 3,
        "start_time": "2023-01-20T13:32:50.926Z"
      },
      {
        "duration": 114,
        "start_time": "2023-01-20T13:32:51.326Z"
      },
      {
        "duration": 4,
        "start_time": "2023-01-20T13:32:51.982Z"
      },
      {
        "duration": 10,
        "start_time": "2023-01-20T13:32:52.454Z"
      },
      {
        "duration": 5,
        "start_time": "2023-01-20T13:32:55.564Z"
      },
      {
        "duration": 4,
        "start_time": "2023-01-20T13:32:56.979Z"
      },
      {
        "duration": 22,
        "start_time": "2023-01-20T13:32:58.575Z"
      },
      {
        "duration": 27,
        "start_time": "2023-01-20T13:39:07.262Z"
      },
      {
        "duration": 19,
        "start_time": "2023-01-20T13:39:21.075Z"
      },
      {
        "duration": 7,
        "start_time": "2023-01-20T13:40:10.963Z"
      },
      {
        "duration": 25,
        "start_time": "2023-01-20T13:40:27.610Z"
      },
      {
        "duration": 14,
        "start_time": "2023-01-20T13:48:28.723Z"
      },
      {
        "duration": 2871,
        "start_time": "2023-01-20T13:48:56.804Z"
      },
      {
        "duration": 3155,
        "start_time": "2023-01-20T13:55:24.850Z"
      },
      {
        "duration": 2708,
        "start_time": "2023-01-20T13:56:31.216Z"
      },
      {
        "duration": 12,
        "start_time": "2023-01-20T13:58:35.263Z"
      },
      {
        "duration": 2847,
        "start_time": "2023-01-20T13:58:42.800Z"
      },
      {
        "duration": 6,
        "start_time": "2023-01-20T14:02:45.189Z"
      },
      {
        "duration": 2814,
        "start_time": "2023-01-20T14:05:44.233Z"
      },
      {
        "duration": 5,
        "start_time": "2023-01-20T14:05:47.050Z"
      },
      {
        "duration": 2772,
        "start_time": "2023-01-20T14:06:04.165Z"
      },
      {
        "duration": 5,
        "start_time": "2023-01-20T14:06:06.939Z"
      },
      {
        "duration": 676,
        "start_time": "2023-01-20T14:06:42.438Z"
      },
      {
        "duration": 8,
        "start_time": "2023-01-20T14:11:31.590Z"
      },
      {
        "duration": 3,
        "start_time": "2023-01-20T14:11:35.260Z"
      },
      {
        "duration": 5,
        "start_time": "2023-01-20T14:13:56.296Z"
      },
      {
        "duration": 23,
        "start_time": "2023-01-20T14:15:17.863Z"
      },
      {
        "duration": 7,
        "start_time": "2023-01-20T14:16:46.179Z"
      },
      {
        "duration": 4,
        "start_time": "2023-01-20T14:16:46.937Z"
      },
      {
        "duration": 21,
        "start_time": "2023-01-20T14:16:48.424Z"
      },
      {
        "duration": 20,
        "start_time": "2023-01-20T14:16:55.476Z"
      },
      {
        "duration": 19,
        "start_time": "2023-01-20T14:17:00.176Z"
      },
      {
        "duration": 3,
        "start_time": "2023-01-20T14:17:07.824Z"
      },
      {
        "duration": 5,
        "start_time": "2023-01-20T14:17:08.498Z"
      },
      {
        "duration": 25,
        "start_time": "2023-01-20T14:17:10.000Z"
      },
      {
        "duration": 4,
        "start_time": "2023-01-20T14:19:36.033Z"
      },
      {
        "duration": 23,
        "start_time": "2023-01-20T14:19:36.579Z"
      },
      {
        "duration": 7,
        "start_time": "2023-01-20T14:20:19.689Z"
      },
      {
        "duration": 34,
        "start_time": "2023-01-20T14:20:20.302Z"
      },
      {
        "duration": 8,
        "start_time": "2023-01-20T14:20:47.608Z"
      },
      {
        "duration": 3,
        "start_time": "2023-01-20T14:20:47.828Z"
      },
      {
        "duration": 1459,
        "start_time": "2023-01-20T14:20:58.518Z"
      },
      {
        "duration": 401,
        "start_time": "2023-01-20T14:20:59.979Z"
      },
      {
        "duration": 67,
        "start_time": "2023-01-20T14:21:00.381Z"
      },
      {
        "duration": 330,
        "start_time": "2023-01-20T14:21:00.449Z"
      },
      {
        "duration": 62,
        "start_time": "2023-01-20T14:21:00.782Z"
      },
      {
        "duration": 327,
        "start_time": "2023-01-20T14:21:00.846Z"
      },
      {
        "duration": 69,
        "start_time": "2023-01-20T14:21:01.175Z"
      },
      {
        "duration": 345,
        "start_time": "2023-01-20T14:21:01.246Z"
      },
      {
        "duration": 21,
        "start_time": "2023-01-20T14:21:01.593Z"
      },
      {
        "duration": 40,
        "start_time": "2023-01-20T14:21:01.617Z"
      },
      {
        "duration": 65,
        "start_time": "2023-01-20T14:21:01.659Z"
      },
      {
        "duration": 15,
        "start_time": "2023-01-20T14:21:01.726Z"
      },
      {
        "duration": 65,
        "start_time": "2023-01-20T14:21:01.743Z"
      },
      {
        "duration": 21,
        "start_time": "2023-01-20T14:21:01.811Z"
      },
      {
        "duration": 36,
        "start_time": "2023-01-20T14:21:01.834Z"
      },
      {
        "duration": 166,
        "start_time": "2023-01-20T14:21:01.872Z"
      },
      {
        "duration": 99,
        "start_time": "2023-01-20T14:21:02.040Z"
      },
      {
        "duration": 24,
        "start_time": "2023-01-20T14:21:02.141Z"
      },
      {
        "duration": 37,
        "start_time": "2023-01-20T14:21:02.166Z"
      },
      {
        "duration": 23,
        "start_time": "2023-01-20T14:21:02.206Z"
      },
      {
        "duration": 11,
        "start_time": "2023-01-20T14:21:02.231Z"
      },
      {
        "duration": 126,
        "start_time": "2023-01-20T14:21:02.243Z"
      },
      {
        "duration": 0,
        "start_time": "2023-01-20T14:21:02.370Z"
      },
      {
        "duration": 0,
        "start_time": "2023-01-20T14:21:02.371Z"
      },
      {
        "duration": 0,
        "start_time": "2023-01-20T14:21:02.373Z"
      },
      {
        "duration": 0,
        "start_time": "2023-01-20T14:21:02.374Z"
      },
      {
        "duration": 0,
        "start_time": "2023-01-20T14:21:02.375Z"
      },
      {
        "duration": 23,
        "start_time": "2023-01-20T14:21:11.346Z"
      },
      {
        "duration": 9,
        "start_time": "2023-01-20T14:22:54.194Z"
      },
      {
        "duration": 3,
        "start_time": "2023-01-20T14:22:54.600Z"
      },
      {
        "duration": 24,
        "start_time": "2023-01-20T14:22:55.020Z"
      },
      {
        "duration": 3,
        "start_time": "2023-01-20T14:23:52.756Z"
      },
      {
        "duration": 6,
        "start_time": "2023-01-20T14:23:53.402Z"
      },
      {
        "duration": 30,
        "start_time": "2023-01-20T14:23:55.297Z"
      },
      {
        "duration": 15,
        "start_time": "2023-01-20T14:24:05.281Z"
      },
      {
        "duration": 6,
        "start_time": "2023-01-20T14:26:55.392Z"
      },
      {
        "duration": 9,
        "start_time": "2023-01-20T14:34:03.858Z"
      },
      {
        "duration": 4,
        "start_time": "2023-01-20T14:34:09.482Z"
      },
      {
        "duration": 306,
        "start_time": "2023-01-20T14:34:10.133Z"
      },
      {
        "duration": 11,
        "start_time": "2023-01-20T14:35:18.667Z"
      },
      {
        "duration": 4,
        "start_time": "2023-01-20T14:39:29.100Z"
      },
      {
        "duration": 4,
        "start_time": "2023-01-20T14:39:44.047Z"
      },
      {
        "duration": 4,
        "start_time": "2023-01-20T14:40:02.383Z"
      },
      {
        "duration": 16,
        "start_time": "2023-01-20T14:40:54.078Z"
      },
      {
        "duration": 17,
        "start_time": "2023-01-20T14:41:05.983Z"
      },
      {
        "duration": 3,
        "start_time": "2023-01-20T14:41:17.589Z"
      },
      {
        "duration": 413,
        "start_time": "2023-01-20T14:41:17.834Z"
      },
      {
        "duration": 57,
        "start_time": "2023-01-20T14:41:18.427Z"
      },
      {
        "duration": 349,
        "start_time": "2023-01-20T14:41:18.684Z"
      },
      {
        "duration": 60,
        "start_time": "2023-01-20T14:41:19.064Z"
      },
      {
        "duration": 438,
        "start_time": "2023-01-20T14:41:19.363Z"
      },
      {
        "duration": 70,
        "start_time": "2023-01-20T14:41:19.803Z"
      },
      {
        "duration": 319,
        "start_time": "2023-01-20T14:41:19.948Z"
      },
      {
        "duration": 14,
        "start_time": "2023-01-20T14:41:20.558Z"
      },
      {
        "duration": 4,
        "start_time": "2023-01-20T14:41:22.155Z"
      },
      {
        "duration": 4,
        "start_time": "2023-01-20T14:41:22.696Z"
      },
      {
        "duration": 248,
        "start_time": "2023-01-20T14:41:23.603Z"
      },
      {
        "duration": 16,
        "start_time": "2023-01-20T14:41:25.005Z"
      },
      {
        "duration": 3,
        "start_time": "2023-01-20T14:41:28.424Z"
      },
      {
        "duration": 3,
        "start_time": "2023-01-20T14:41:29.059Z"
      },
      {
        "duration": 88,
        "start_time": "2023-01-20T14:41:29.751Z"
      },
      {
        "duration": 4,
        "start_time": "2023-01-20T14:41:32.768Z"
      },
      {
        "duration": 10,
        "start_time": "2023-01-20T14:41:33.504Z"
      },
      {
        "duration": 4,
        "start_time": "2023-01-20T14:41:35.633Z"
      },
      {
        "duration": 4,
        "start_time": "2023-01-20T14:46:22.260Z"
      },
      {
        "duration": 3,
        "start_time": "2023-01-20T14:47:11.773Z"
      },
      {
        "duration": 30,
        "start_time": "2023-01-20T14:47:45.376Z"
      },
      {
        "duration": 3,
        "start_time": "2023-01-20T14:47:48.949Z"
      },
      {
        "duration": 388,
        "start_time": "2023-01-20T14:47:52.750Z"
      },
      {
        "duration": 5,
        "start_time": "2023-01-20T14:48:08.120Z"
      },
      {
        "duration": 3,
        "start_time": "2023-01-20T14:48:13.983Z"
      },
      {
        "duration": 273,
        "start_time": "2023-01-20T14:48:15.081Z"
      },
      {
        "duration": 28,
        "start_time": "2023-01-20T14:48:35.205Z"
      },
      {
        "duration": 3,
        "start_time": "2023-01-20T14:48:35.894Z"
      },
      {
        "duration": 306,
        "start_time": "2023-01-20T14:48:36.533Z"
      },
      {
        "duration": 5,
        "start_time": "2023-01-20T14:49:46.432Z"
      },
      {
        "duration": 17,
        "start_time": "2023-01-20T14:49:48.720Z"
      },
      {
        "duration": 3,
        "start_time": "2023-01-20T14:50:48.933Z"
      },
      {
        "duration": 3,
        "start_time": "2023-01-20T14:50:49.660Z"
      },
      {
        "duration": 242,
        "start_time": "2023-01-20T14:50:50.397Z"
      },
      {
        "duration": 4,
        "start_time": "2023-01-20T14:52:45.893Z"
      },
      {
        "duration": 10,
        "start_time": "2023-01-20T14:52:46.649Z"
      },
      {
        "duration": 4,
        "start_time": "2023-01-20T14:52:49.319Z"
      },
      {
        "duration": 5,
        "start_time": "2023-01-20T14:53:08.119Z"
      },
      {
        "duration": 24,
        "start_time": "2023-01-20T14:53:11.735Z"
      },
      {
        "duration": 27,
        "start_time": "2023-01-20T14:53:56.134Z"
      },
      {
        "duration": 66,
        "start_time": "2023-01-20T14:54:39.799Z"
      },
      {
        "duration": 10,
        "start_time": "2023-01-20T14:54:52.159Z"
      },
      {
        "duration": 25,
        "start_time": "2023-01-20T14:55:05.034Z"
      },
      {
        "duration": 4,
        "start_time": "2023-01-20T14:56:10.527Z"
      },
      {
        "duration": 20,
        "start_time": "2023-01-20T14:56:13.964Z"
      },
      {
        "duration": 21,
        "start_time": "2023-01-20T14:56:53.345Z"
      },
      {
        "duration": 4,
        "start_time": "2023-01-20T14:57:06.103Z"
      },
      {
        "duration": 5,
        "start_time": "2023-01-20T14:57:10.335Z"
      },
      {
        "duration": 1266,
        "start_time": "2023-01-20T14:57:13.549Z"
      },
      {
        "duration": 22,
        "start_time": "2023-01-20T14:57:30.620Z"
      },
      {
        "duration": 5,
        "start_time": "2023-01-20T14:57:50.724Z"
      },
      {
        "duration": 14,
        "start_time": "2023-01-20T14:57:53.274Z"
      },
      {
        "duration": 5,
        "start_time": "2023-01-20T14:58:09.804Z"
      },
      {
        "duration": 1496,
        "start_time": "2023-01-20T14:58:12.405Z"
      },
      {
        "duration": 5,
        "start_time": "2023-01-20T14:58:35.230Z"
      },
      {
        "duration": 1389,
        "start_time": "2023-01-20T14:58:37.767Z"
      },
      {
        "duration": 5,
        "start_time": "2023-01-20T15:00:16.188Z"
      },
      {
        "duration": 1481,
        "start_time": "2023-01-20T15:00:16.979Z"
      },
      {
        "duration": 5,
        "start_time": "2023-01-20T15:00:33.086Z"
      },
      {
        "duration": 1424,
        "start_time": "2023-01-20T15:00:35.469Z"
      },
      {
        "duration": 5,
        "start_time": "2023-01-20T15:01:22.052Z"
      },
      {
        "duration": 1364,
        "start_time": "2023-01-20T15:01:23.245Z"
      },
      {
        "duration": 1375,
        "start_time": "2023-01-20T15:03:38.120Z"
      },
      {
        "duration": 6,
        "start_time": "2023-01-20T15:07:36.348Z"
      },
      {
        "duration": 11,
        "start_time": "2023-01-20T15:13:58.434Z"
      },
      {
        "duration": 7,
        "start_time": "2023-01-20T15:14:26.739Z"
      },
      {
        "duration": 1562,
        "start_time": "2023-01-20T15:14:28.389Z"
      },
      {
        "duration": 1596,
        "start_time": "2023-01-20T15:15:25.320Z"
      },
      {
        "duration": 6,
        "start_time": "2023-01-20T15:15:55.050Z"
      },
      {
        "duration": 1398,
        "start_time": "2023-01-20T15:15:56.753Z"
      },
      {
        "duration": 5,
        "start_time": "2023-01-20T15:16:09.777Z"
      },
      {
        "duration": 6,
        "start_time": "2023-01-20T15:16:15.363Z"
      },
      {
        "duration": 1579,
        "start_time": "2023-01-20T15:16:15.739Z"
      },
      {
        "duration": 1679,
        "start_time": "2023-01-20T15:16:17.320Z"
      },
      {
        "duration": 1603,
        "start_time": "2023-01-20T15:16:51.760Z"
      },
      {
        "duration": 6,
        "start_time": "2023-01-20T15:18:05.792Z"
      },
      {
        "duration": 1620,
        "start_time": "2023-01-20T15:18:06.827Z"
      },
      {
        "duration": 1536,
        "start_time": "2023-01-20T15:18:08.628Z"
      },
      {
        "duration": 1559,
        "start_time": "2023-01-20T15:18:10.166Z"
      },
      {
        "duration": 50,
        "start_time": "2023-01-20T15:18:11.727Z"
      },
      {
        "duration": 5,
        "start_time": "2023-01-20T15:20:46.384Z"
      },
      {
        "duration": 1572,
        "start_time": "2023-01-20T15:20:47.528Z"
      },
      {
        "duration": 1470,
        "start_time": "2023-01-20T15:20:56.798Z"
      },
      {
        "duration": 1397,
        "start_time": "2023-01-20T15:20:58.269Z"
      },
      {
        "duration": 5,
        "start_time": "2023-01-20T15:24:37.389Z"
      },
      {
        "duration": 1530,
        "start_time": "2023-01-20T15:24:41.491Z"
      },
      {
        "duration": 1524,
        "start_time": "2023-01-20T15:24:43.069Z"
      },
      {
        "duration": 1507,
        "start_time": "2023-01-20T15:24:44.595Z"
      },
      {
        "duration": 3,
        "start_time": "2023-01-20T15:31:17.831Z"
      },
      {
        "duration": 6,
        "start_time": "2023-01-20T15:31:26.132Z"
      },
      {
        "duration": 1554,
        "start_time": "2023-01-20T15:31:27.755Z"
      },
      {
        "duration": 1540,
        "start_time": "2023-01-20T15:31:29.311Z"
      },
      {
        "duration": 1556,
        "start_time": "2023-01-20T15:31:30.853Z"
      },
      {
        "duration": 4,
        "start_time": "2023-01-20T15:33:22.490Z"
      },
      {
        "duration": 384,
        "start_time": "2023-01-20T15:33:22.802Z"
      },
      {
        "duration": 56,
        "start_time": "2023-01-20T15:33:24.100Z"
      },
      {
        "duration": 327,
        "start_time": "2023-01-20T15:33:24.622Z"
      },
      {
        "duration": 54,
        "start_time": "2023-01-20T15:33:25.034Z"
      },
      {
        "duration": 316,
        "start_time": "2023-01-20T15:33:25.379Z"
      },
      {
        "duration": 52,
        "start_time": "2023-01-20T15:33:25.724Z"
      },
      {
        "duration": 306,
        "start_time": "2023-01-20T15:33:26.053Z"
      },
      {
        "duration": 14,
        "start_time": "2023-01-20T15:33:27.275Z"
      },
      {
        "duration": 4,
        "start_time": "2023-01-20T15:33:29.356Z"
      },
      {
        "duration": 31,
        "start_time": "2023-01-20T15:33:30.193Z"
      },
      {
        "duration": 5,
        "start_time": "2023-01-20T15:33:31.535Z"
      },
      {
        "duration": 29,
        "start_time": "2023-01-20T15:33:32.679Z"
      },
      {
        "duration": 3,
        "start_time": "2023-01-20T15:33:33.861Z"
      },
      {
        "duration": 3,
        "start_time": "2023-01-20T15:33:34.570Z"
      },
      {
        "duration": 329,
        "start_time": "2023-01-20T15:33:35.519Z"
      },
      {
        "duration": 3,
        "start_time": "2023-01-20T15:33:36.744Z"
      },
      {
        "duration": 11,
        "start_time": "2023-01-20T15:33:37.527Z"
      },
      {
        "duration": 3,
        "start_time": "2023-01-20T15:34:03.329Z"
      },
      {
        "duration": 4,
        "start_time": "2023-01-20T15:34:04.235Z"
      },
      {
        "duration": 22,
        "start_time": "2023-01-20T15:34:04.651Z"
      },
      {
        "duration": 4,
        "start_time": "2023-01-20T15:34:08.692Z"
      },
      {
        "duration": 5,
        "start_time": "2023-01-20T15:34:08.980Z"
      },
      {
        "duration": 1711,
        "start_time": "2023-01-20T15:34:09.866Z"
      },
      {
        "duration": 1647,
        "start_time": "2023-01-20T15:34:11.579Z"
      },
      {
        "duration": 1597,
        "start_time": "2023-01-20T15:34:13.228Z"
      },
      {
        "duration": 21,
        "start_time": "2023-01-20T15:34:58.302Z"
      },
      {
        "duration": 22,
        "start_time": "2023-01-20T15:35:06.953Z"
      },
      {
        "duration": 4,
        "start_time": "2023-01-20T15:35:08.471Z"
      },
      {
        "duration": 3,
        "start_time": "2023-01-20T15:35:16.519Z"
      },
      {
        "duration": 5,
        "start_time": "2023-01-20T15:35:16.773Z"
      },
      {
        "duration": 1534,
        "start_time": "2023-01-20T15:35:23.524Z"
      },
      {
        "duration": 1578,
        "start_time": "2023-01-20T15:35:25.060Z"
      },
      {
        "duration": 1637,
        "start_time": "2023-01-20T15:35:26.640Z"
      },
      {
        "duration": 286,
        "start_time": "2023-01-20T15:36:25.460Z"
      },
      {
        "duration": 1962,
        "start_time": "2023-01-20T17:22:54.950Z"
      },
      {
        "duration": 425,
        "start_time": "2023-01-20T17:22:56.914Z"
      },
      {
        "duration": 71,
        "start_time": "2023-01-20T17:22:57.341Z"
      },
      {
        "duration": 451,
        "start_time": "2023-01-20T17:22:57.414Z"
      },
      {
        "duration": 61,
        "start_time": "2023-01-20T17:22:57.868Z"
      },
      {
        "duration": 369,
        "start_time": "2023-01-20T17:22:57.930Z"
      },
      {
        "duration": 63,
        "start_time": "2023-01-20T17:22:58.301Z"
      },
      {
        "duration": 317,
        "start_time": "2023-01-20T17:22:58.366Z"
      },
      {
        "duration": 19,
        "start_time": "2023-01-20T17:22:58.686Z"
      },
      {
        "duration": 5,
        "start_time": "2023-01-20T17:22:58.710Z"
      },
      {
        "duration": 68,
        "start_time": "2023-01-20T17:22:58.717Z"
      },
      {
        "duration": 4,
        "start_time": "2023-01-20T17:22:58.788Z"
      },
      {
        "duration": 30,
        "start_time": "2023-01-20T17:22:58.794Z"
      },
      {
        "duration": 4,
        "start_time": "2023-01-20T17:22:58.826Z"
      },
      {
        "duration": 4,
        "start_time": "2023-01-20T17:22:58.852Z"
      },
      {
        "duration": 117,
        "start_time": "2023-01-20T17:22:58.858Z"
      },
      {
        "duration": 0,
        "start_time": "2023-01-20T17:22:58.978Z"
      },
      {
        "duration": 0,
        "start_time": "2023-01-20T17:22:58.980Z"
      },
      {
        "duration": 0,
        "start_time": "2023-01-20T17:22:58.981Z"
      },
      {
        "duration": 0,
        "start_time": "2023-01-20T17:22:58.983Z"
      },
      {
        "duration": 0,
        "start_time": "2023-01-20T17:22:58.985Z"
      },
      {
        "duration": 0,
        "start_time": "2023-01-20T17:22:58.987Z"
      },
      {
        "duration": 0,
        "start_time": "2023-01-20T17:22:58.988Z"
      },
      {
        "duration": 0,
        "start_time": "2023-01-20T17:22:58.990Z"
      },
      {
        "duration": 0,
        "start_time": "2023-01-20T17:22:58.991Z"
      },
      {
        "duration": 0,
        "start_time": "2023-01-20T17:22:58.993Z"
      },
      {
        "duration": 1981,
        "start_time": "2023-01-20T17:24:49.363Z"
      },
      {
        "duration": 417,
        "start_time": "2023-01-20T17:24:51.346Z"
      },
      {
        "duration": 60,
        "start_time": "2023-01-20T17:24:51.765Z"
      },
      {
        "duration": 380,
        "start_time": "2023-01-20T17:24:51.827Z"
      },
      {
        "duration": 72,
        "start_time": "2023-01-20T17:24:52.209Z"
      },
      {
        "duration": 332,
        "start_time": "2023-01-20T17:24:52.283Z"
      },
      {
        "duration": 70,
        "start_time": "2023-01-20T17:24:52.617Z"
      },
      {
        "duration": 310,
        "start_time": "2023-01-20T17:24:52.688Z"
      },
      {
        "duration": 18,
        "start_time": "2023-01-20T17:24:53.000Z"
      },
      {
        "duration": 6,
        "start_time": "2023-01-20T17:24:53.020Z"
      },
      {
        "duration": 43,
        "start_time": "2023-01-20T17:24:53.028Z"
      },
      {
        "duration": 5,
        "start_time": "2023-01-20T17:24:53.073Z"
      },
      {
        "duration": 25,
        "start_time": "2023-01-20T17:24:53.080Z"
      },
      {
        "duration": 3,
        "start_time": "2023-01-20T17:24:53.107Z"
      },
      {
        "duration": 17,
        "start_time": "2023-01-20T17:24:53.112Z"
      },
      {
        "duration": 111,
        "start_time": "2023-01-20T17:24:53.153Z"
      },
      {
        "duration": 0,
        "start_time": "2023-01-20T17:24:53.266Z"
      },
      {
        "duration": 0,
        "start_time": "2023-01-20T17:24:53.268Z"
      },
      {
        "duration": 0,
        "start_time": "2023-01-20T17:24:53.270Z"
      },
      {
        "duration": 0,
        "start_time": "2023-01-20T17:24:53.272Z"
      },
      {
        "duration": 0,
        "start_time": "2023-01-20T17:24:53.273Z"
      },
      {
        "duration": 0,
        "start_time": "2023-01-20T17:24:53.275Z"
      },
      {
        "duration": 0,
        "start_time": "2023-01-20T17:24:53.276Z"
      },
      {
        "duration": 0,
        "start_time": "2023-01-20T17:24:53.277Z"
      },
      {
        "duration": 0,
        "start_time": "2023-01-20T17:24:53.278Z"
      },
      {
        "duration": 0,
        "start_time": "2023-01-20T17:24:53.279Z"
      },
      {
        "duration": 1901,
        "start_time": "2023-01-20T17:26:19.964Z"
      },
      {
        "duration": 455,
        "start_time": "2023-01-20T17:26:21.867Z"
      },
      {
        "duration": 63,
        "start_time": "2023-01-20T17:26:22.323Z"
      },
      {
        "duration": 342,
        "start_time": "2023-01-20T17:26:22.388Z"
      },
      {
        "duration": 64,
        "start_time": "2023-01-20T17:26:22.732Z"
      },
      {
        "duration": 389,
        "start_time": "2023-01-20T17:26:22.798Z"
      },
      {
        "duration": 61,
        "start_time": "2023-01-20T17:26:23.188Z"
      },
      {
        "duration": 343,
        "start_time": "2023-01-20T17:26:23.251Z"
      },
      {
        "duration": 18,
        "start_time": "2023-01-20T17:26:23.595Z"
      },
      {
        "duration": 9,
        "start_time": "2023-01-20T17:26:23.614Z"
      },
      {
        "duration": 53,
        "start_time": "2023-01-20T17:26:23.625Z"
      },
      {
        "duration": 5,
        "start_time": "2023-01-20T17:26:23.680Z"
      },
      {
        "duration": 30,
        "start_time": "2023-01-20T17:26:23.687Z"
      },
      {
        "duration": 3,
        "start_time": "2023-01-20T17:26:23.720Z"
      },
      {
        "duration": 8,
        "start_time": "2023-01-20T17:26:23.725Z"
      },
      {
        "duration": 148,
        "start_time": "2023-01-20T17:26:23.749Z"
      },
      {
        "duration": 0,
        "start_time": "2023-01-20T17:26:23.898Z"
      },
      {
        "duration": 0,
        "start_time": "2023-01-20T17:26:23.900Z"
      },
      {
        "duration": 0,
        "start_time": "2023-01-20T17:26:23.901Z"
      },
      {
        "duration": 0,
        "start_time": "2023-01-20T17:26:23.902Z"
      },
      {
        "duration": 0,
        "start_time": "2023-01-20T17:26:23.903Z"
      },
      {
        "duration": 0,
        "start_time": "2023-01-20T17:26:23.904Z"
      },
      {
        "duration": 0,
        "start_time": "2023-01-20T17:26:23.906Z"
      },
      {
        "duration": 0,
        "start_time": "2023-01-20T17:26:23.907Z"
      },
      {
        "duration": 0,
        "start_time": "2023-01-20T17:26:23.908Z"
      },
      {
        "duration": 0,
        "start_time": "2023-01-20T17:26:23.909Z"
      },
      {
        "duration": 52,
        "start_time": "2023-01-20T18:07:06.702Z"
      },
      {
        "duration": 1699,
        "start_time": "2023-01-20T18:07:17.209Z"
      },
      {
        "duration": 973,
        "start_time": "2023-01-20T18:07:18.910Z"
      },
      {
        "duration": 77,
        "start_time": "2023-01-20T18:07:19.886Z"
      },
      {
        "duration": 431,
        "start_time": "2023-01-20T18:07:19.965Z"
      },
      {
        "duration": 59,
        "start_time": "2023-01-20T18:07:20.398Z"
      },
      {
        "duration": 365,
        "start_time": "2023-01-20T18:07:20.460Z"
      },
      {
        "duration": 70,
        "start_time": "2023-01-20T18:07:20.828Z"
      },
      {
        "duration": 365,
        "start_time": "2023-01-20T18:07:20.954Z"
      },
      {
        "duration": 19,
        "start_time": "2023-01-20T18:07:23.595Z"
      },
      {
        "duration": 4,
        "start_time": "2023-01-20T18:07:27.098Z"
      },
      {
        "duration": 40,
        "start_time": "2023-01-20T18:07:28.083Z"
      },
      {
        "duration": 5,
        "start_time": "2023-01-20T18:07:29.171Z"
      },
      {
        "duration": 33,
        "start_time": "2023-01-20T18:07:30.824Z"
      },
      {
        "duration": 4,
        "start_time": "2023-01-20T18:07:32.635Z"
      },
      {
        "duration": 4,
        "start_time": "2023-01-20T18:07:35.899Z"
      },
      {
        "duration": 83,
        "start_time": "2023-01-20T18:07:36.578Z"
      },
      {
        "duration": 76,
        "start_time": "2023-01-20T18:11:59.110Z"
      },
      {
        "duration": 113,
        "start_time": "2023-01-20T18:15:01.576Z"
      },
      {
        "duration": 3,
        "start_time": "2023-01-20T18:15:09.040Z"
      },
      {
        "duration": 13,
        "start_time": "2023-01-20T18:15:10.661Z"
      },
      {
        "duration": 11,
        "start_time": "2023-01-20T18:16:05.993Z"
      },
      {
        "duration": 5,
        "start_time": "2023-01-20T18:16:12.381Z"
      },
      {
        "duration": 4,
        "start_time": "2023-01-20T18:16:15.397Z"
      },
      {
        "duration": 22,
        "start_time": "2023-01-20T18:16:16.891Z"
      },
      {
        "duration": 4,
        "start_time": "2023-01-20T18:16:21.408Z"
      },
      {
        "duration": 6,
        "start_time": "2023-01-20T18:16:22.474Z"
      },
      {
        "duration": 1744,
        "start_time": "2023-01-20T18:16:24.284Z"
      },
      {
        "duration": 1673,
        "start_time": "2023-01-20T18:16:27.568Z"
      },
      {
        "duration": 1763,
        "start_time": "2023-01-20T18:16:29.243Z"
      },
      {
        "duration": 1567,
        "start_time": "2023-01-20T18:16:46.621Z"
      },
      {
        "duration": 409,
        "start_time": "2023-01-20T18:16:48.190Z"
      },
      {
        "duration": 65,
        "start_time": "2023-01-20T18:16:48.601Z"
      },
      {
        "duration": 370,
        "start_time": "2023-01-20T18:16:48.669Z"
      },
      {
        "duration": 73,
        "start_time": "2023-01-20T18:16:49.041Z"
      },
      {
        "duration": 335,
        "start_time": "2023-01-20T18:16:49.116Z"
      },
      {
        "duration": 71,
        "start_time": "2023-01-20T18:16:49.453Z"
      },
      {
        "duration": 378,
        "start_time": "2023-01-20T18:16:49.527Z"
      },
      {
        "duration": 20,
        "start_time": "2023-01-20T18:16:49.907Z"
      },
      {
        "duration": 29,
        "start_time": "2023-01-20T18:16:49.932Z"
      },
      {
        "duration": 80,
        "start_time": "2023-01-20T18:16:49.963Z"
      },
      {
        "duration": 5,
        "start_time": "2023-01-20T18:16:50.045Z"
      },
      {
        "duration": 61,
        "start_time": "2023-01-20T18:16:50.053Z"
      },
      {
        "duration": 12,
        "start_time": "2023-01-20T18:16:50.116Z"
      },
      {
        "duration": 28,
        "start_time": "2023-01-20T18:16:50.130Z"
      },
      {
        "duration": 130,
        "start_time": "2023-01-20T18:16:50.160Z"
      },
      {
        "duration": 194,
        "start_time": "2023-01-20T18:16:50.292Z"
      },
      {
        "duration": 27,
        "start_time": "2023-01-20T18:16:50.488Z"
      },
      {
        "duration": 6,
        "start_time": "2023-01-20T18:16:50.517Z"
      },
      {
        "duration": 26,
        "start_time": "2023-01-20T18:16:50.525Z"
      },
      {
        "duration": 52,
        "start_time": "2023-01-20T18:16:50.553Z"
      },
      {
        "duration": 3,
        "start_time": "2023-01-20T18:16:50.607Z"
      },
      {
        "duration": 33,
        "start_time": "2023-01-20T18:16:50.612Z"
      },
      {
        "duration": 1640,
        "start_time": "2023-01-20T18:16:50.647Z"
      },
      {
        "duration": 1687,
        "start_time": "2023-01-20T18:16:52.289Z"
      },
      {
        "duration": 1603,
        "start_time": "2023-01-20T18:16:53.984Z"
      },
      {
        "duration": 1836,
        "start_time": "2023-01-20T18:38:03.305Z"
      },
      {
        "duration": 401,
        "start_time": "2023-01-20T18:38:05.144Z"
      },
      {
        "duration": 66,
        "start_time": "2023-01-20T18:38:05.548Z"
      },
      {
        "duration": 407,
        "start_time": "2023-01-20T18:38:05.617Z"
      },
      {
        "duration": 75,
        "start_time": "2023-01-20T18:38:06.026Z"
      },
      {
        "duration": 372,
        "start_time": "2023-01-20T18:38:06.102Z"
      },
      {
        "duration": 54,
        "start_time": "2023-01-20T18:38:06.477Z"
      },
      {
        "duration": 354,
        "start_time": "2023-01-20T18:38:06.532Z"
      },
      {
        "duration": 17,
        "start_time": "2023-01-20T18:38:06.888Z"
      },
      {
        "duration": 5,
        "start_time": "2023-01-20T18:38:06.909Z"
      },
      {
        "duration": 63,
        "start_time": "2023-01-20T18:38:06.916Z"
      },
      {
        "duration": 5,
        "start_time": "2023-01-20T18:38:06.981Z"
      },
      {
        "duration": 28,
        "start_time": "2023-01-20T18:38:06.988Z"
      },
      {
        "duration": 3,
        "start_time": "2023-01-20T18:38:07.018Z"
      },
      {
        "duration": 7,
        "start_time": "2023-01-20T18:38:07.023Z"
      },
      {
        "duration": 324,
        "start_time": "2023-01-20T18:38:07.032Z"
      },
      {
        "duration": 9,
        "start_time": "2023-01-20T18:38:07.361Z"
      },
      {
        "duration": 107,
        "start_time": "2023-01-20T18:38:07.448Z"
      },
      {
        "duration": 4,
        "start_time": "2023-01-20T18:38:07.557Z"
      },
      {
        "duration": 17,
        "start_time": "2023-01-20T18:38:07.563Z"
      },
      {
        "duration": 25,
        "start_time": "2023-01-20T18:38:07.583Z"
      },
      {
        "duration": 3,
        "start_time": "2023-01-20T18:38:07.610Z"
      },
      {
        "duration": 8,
        "start_time": "2023-01-20T18:38:07.615Z"
      },
      {
        "duration": 1618,
        "start_time": "2023-01-20T18:38:07.625Z"
      },
      {
        "duration": 1627,
        "start_time": "2023-01-20T18:38:09.248Z"
      },
      {
        "duration": 1557,
        "start_time": "2023-01-20T18:38:10.877Z"
      },
      {
        "duration": 1505,
        "start_time": "2023-01-21T05:03:45.363Z"
      },
      {
        "duration": 1464,
        "start_time": "2023-01-21T05:03:46.870Z"
      },
      {
        "duration": 64,
        "start_time": "2023-01-21T05:03:48.337Z"
      },
      {
        "duration": 428,
        "start_time": "2023-01-21T05:03:48.403Z"
      },
      {
        "duration": 52,
        "start_time": "2023-01-21T05:03:48.836Z"
      },
      {
        "duration": 338,
        "start_time": "2023-01-21T05:03:48.889Z"
      },
      {
        "duration": 53,
        "start_time": "2023-01-21T05:03:49.237Z"
      },
      {
        "duration": 320,
        "start_time": "2023-01-21T05:03:49.470Z"
      },
      {
        "duration": 20,
        "start_time": "2023-01-21T05:03:51.977Z"
      },
      {
        "duration": 4,
        "start_time": "2023-01-21T05:03:58.431Z"
      },
      {
        "duration": 38,
        "start_time": "2023-01-21T05:03:58.851Z"
      },
      {
        "duration": 5,
        "start_time": "2023-01-21T05:03:59.714Z"
      },
      {
        "duration": 28,
        "start_time": "2023-01-21T05:04:00.918Z"
      },
      {
        "duration": 3,
        "start_time": "2023-01-21T05:04:02.217Z"
      },
      {
        "duration": 2,
        "start_time": "2023-01-21T05:04:03.067Z"
      },
      {
        "duration": 60,
        "start_time": "2023-01-21T05:04:03.479Z"
      },
      {
        "duration": 4,
        "start_time": "2023-01-21T05:04:05.162Z"
      },
      {
        "duration": 12,
        "start_time": "2023-01-21T05:04:06.154Z"
      },
      {
        "duration": 5,
        "start_time": "2023-01-21T05:04:09.305Z"
      },
      {
        "duration": 3,
        "start_time": "2023-01-21T05:04:14.056Z"
      },
      {
        "duration": 115,
        "start_time": "2023-01-21T05:04:18.327Z"
      },
      {
        "duration": 21,
        "start_time": "2023-01-21T05:04:34.538Z"
      },
      {
        "duration": 3,
        "start_time": "2023-01-21T05:04:47.964Z"
      },
      {
        "duration": 5,
        "start_time": "2023-01-21T05:05:58.180Z"
      },
      {
        "duration": 1436,
        "start_time": "2023-01-21T05:06:03.574Z"
      },
      {
        "duration": 1504,
        "start_time": "2023-01-21T05:06:06.183Z"
      },
      {
        "duration": 1493,
        "start_time": "2023-01-21T05:06:07.689Z"
      },
      {
        "duration": 1307,
        "start_time": "2023-01-21T05:07:21.286Z"
      },
      {
        "duration": 375,
        "start_time": "2023-01-21T05:07:22.595Z"
      },
      {
        "duration": 65,
        "start_time": "2023-01-21T05:07:22.971Z"
      },
      {
        "duration": 319,
        "start_time": "2023-01-21T05:07:23.039Z"
      },
      {
        "duration": 51,
        "start_time": "2023-01-21T05:07:23.360Z"
      },
      {
        "duration": 325,
        "start_time": "2023-01-21T05:07:23.413Z"
      },
      {
        "duration": 51,
        "start_time": "2023-01-21T05:07:23.740Z"
      },
      {
        "duration": 335,
        "start_time": "2023-01-21T05:07:23.792Z"
      },
      {
        "duration": 20,
        "start_time": "2023-01-21T05:07:24.128Z"
      },
      {
        "duration": 25,
        "start_time": "2023-01-21T05:07:24.151Z"
      },
      {
        "duration": 71,
        "start_time": "2023-01-21T05:07:24.177Z"
      },
      {
        "duration": 4,
        "start_time": "2023-01-21T05:07:24.249Z"
      },
      {
        "duration": 60,
        "start_time": "2023-01-21T05:07:24.255Z"
      },
      {
        "duration": 8,
        "start_time": "2023-01-21T05:07:24.317Z"
      },
      {
        "duration": 19,
        "start_time": "2023-01-21T05:07:24.326Z"
      },
      {
        "duration": 94,
        "start_time": "2023-01-21T05:07:24.347Z"
      },
      {
        "duration": 195,
        "start_time": "2023-01-21T05:07:24.443Z"
      },
      {
        "duration": 27,
        "start_time": "2023-01-21T05:07:24.640Z"
      },
      {
        "duration": 3,
        "start_time": "2023-01-21T05:07:24.669Z"
      },
      {
        "duration": 12,
        "start_time": "2023-01-21T05:07:24.674Z"
      },
      {
        "duration": 30,
        "start_time": "2023-01-21T05:07:24.687Z"
      },
      {
        "duration": 3,
        "start_time": "2023-01-21T05:07:24.719Z"
      },
      {
        "duration": 6,
        "start_time": "2023-01-21T05:07:24.724Z"
      },
      {
        "duration": 1427,
        "start_time": "2023-01-21T05:07:24.731Z"
      },
      {
        "duration": 1524,
        "start_time": "2023-01-21T05:07:26.159Z"
      },
      {
        "duration": 1510,
        "start_time": "2023-01-21T05:07:27.685Z"
      }
    ],
    "kernelspec": {
      "display_name": "Python 3 (ipykernel)",
      "language": "python",
      "name": "python3"
    },
    "language_info": {
      "codemirror_mode": {
        "name": "ipython",
        "version": 3
      },
      "file_extension": ".py",
      "mimetype": "text/x-python",
      "name": "python",
      "nbconvert_exporter": "python",
      "pygments_lexer": "ipython3",
      "version": "3.9.5"
    },
    "toc": {
      "base_numbering": 1,
      "nav_menu": {},
      "number_sections": true,
      "sideBar": true,
      "skip_h1_title": true,
      "title_cell": "Table of Contents",
      "title_sidebar": "Contents",
      "toc_cell": false,
      "toc_position": {},
      "toc_section_display": true,
      "toc_window_display": true
    },
    "colab": {
      "provenance": []
    }
  },
  "nbformat": 4,
  "nbformat_minor": 0
}